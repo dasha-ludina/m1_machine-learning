{
  "cells": [
    {
      "cell_type": "markdown",
      "metadata": {
        "id": "zZ0aWplr-WkO"
      },
      "source": [
        "# **Страхование автомобилей**\n",
        "\n",
        "Предположим, страховая компания в целях прогнозирования своей работы хочет узнать информацию о возникновении страхового случая у клиента, наступит он или нет. Источник данных: https://www.kaggle.com/datasets/sagnik1511/car-insurance-data"
      ]
    },
    {
      "cell_type": "code",
      "execution_count": 1,
      "metadata": {
        "id": "AKgqnODX-WkR"
      },
      "outputs": [],
      "source": [
        "import numpy as np              \n",
        "import matplotlib.pyplot as plt \n",
        "%matplotlib inline \n",
        "import pandas as pd             \n",
        "import seaborn as sns           \n",
        "import sklearn"
      ]
    },
    {
      "cell_type": "markdown",
      "metadata": {
        "id": "o0TYXqfN-WkS"
      },
      "source": [
        "### **1. Чтение данных**"
      ]
    },
    {
      "cell_type": "code",
      "execution_count": 2,
      "metadata": {
        "id": "aoHrq9X--WkS"
      },
      "outputs": [],
      "source": [
        "url = \"https://raw.githubusercontent.com/dasha-ludina/m1_machine-learning/main/Car_Insurance_Claim.csv\"\n",
        "data = pd.read_csv(url)"
      ]
    },
    {
      "cell_type": "markdown",
      "metadata": {
        "id": "XE2uzZrO-WkS"
      },
      "source": [
        "Таблица содержит данные о 10000 клиентов страховой компании, включает такую информацию, как время возраст, уровень образования, водительский стаж и т.д.\n",
        "\n",
        "Вначале посмотрим на размеры таблицы - количество строк (каждая строка соответствует одному клиенту) и количество столбцов (каждый столбец соответствует конкретному признаку):"
      ]
    },
    {
      "cell_type": "code",
      "execution_count": 3,
      "metadata": {
        "colab": {
          "base_uri": "https://localhost:8080/"
        },
        "id": "xcm1nH9g-WkT",
        "outputId": "25bd6e03-7088-44c0-ab88-f4bd168cf959"
      },
      "outputs": [
        {
          "output_type": "execute_result",
          "data": {
            "text/plain": [
              "(10000, 19)"
            ]
          },
          "metadata": {},
          "execution_count": 3
        }
      ],
      "source": [
        "data.shape"
      ]
    },
    {
      "cell_type": "markdown",
      "metadata": {
        "id": "rNFx3VYb-WkT"
      },
      "source": [
        "Метод data.head() отображает первые строки (по умолчанию, 5 строк) таблицы"
      ]
    },
    {
      "cell_type": "code",
      "execution_count": 4,
      "metadata": {
        "colab": {
          "base_uri": "https://localhost:8080/",
          "height": 357
        },
        "id": "fey_59jA-WkT",
        "outputId": "d2bedfbe-68a4-4816-b471-f58bb703468f"
      },
      "outputs": [
        {
          "output_type": "execute_result",
          "data": {
            "text/plain": [
              "       ID    AGE  GENDER      RACE DRIVING_EXPERIENCE    EDUCATION  \\\n",
              "0  569520    65+  female  majority               0-9y  high school   \n",
              "1  750365  16-25    male  majority               0-9y         none   \n",
              "2  199901  16-25  female  majority               0-9y  high school   \n",
              "3  478866  16-25    male  majority               0-9y   university   \n",
              "4  731664  26-39    male  majority             10-19y         none   \n",
              "\n",
              "          INCOME  CREDIT_SCORE  VEHICLE_OWNERSHIP VEHICLE_YEAR  MARRIED  \\\n",
              "0    upper class      0.629027                1.0   after 2015      0.0   \n",
              "1        poverty      0.357757                0.0  before 2015      0.0   \n",
              "2  working class      0.493146                1.0  before 2015      0.0   \n",
              "3  working class      0.206013                1.0  before 2015      0.0   \n",
              "4  working class      0.388366                1.0  before 2015      0.0   \n",
              "\n",
              "   CHILDREN  POSTAL_CODE  ANNUAL_MILEAGE VEHICLE_TYPE  SPEEDING_VIOLATIONS  \\\n",
              "0       1.0        10238         12000.0        sedan                    0   \n",
              "1       0.0        10238         16000.0        sedan                    0   \n",
              "2       0.0        10238         11000.0        sedan                    0   \n",
              "3       1.0        32765         11000.0        sedan                    0   \n",
              "4       0.0        32765         12000.0        sedan                    2   \n",
              "\n",
              "   DUIS  PAST_ACCIDENTS  OUTCOME  \n",
              "0     0               0      0.0  \n",
              "1     0               0      1.0  \n",
              "2     0               0      0.0  \n",
              "3     0               0      0.0  \n",
              "4     0               1      1.0  "
            ],
            "text/html": [
              "\n",
              "  <div id=\"df-2e9664fa-8fc2-4a84-8963-a129d3771a4c\">\n",
              "    <div class=\"colab-df-container\">\n",
              "      <div>\n",
              "<style scoped>\n",
              "    .dataframe tbody tr th:only-of-type {\n",
              "        vertical-align: middle;\n",
              "    }\n",
              "\n",
              "    .dataframe tbody tr th {\n",
              "        vertical-align: top;\n",
              "    }\n",
              "\n",
              "    .dataframe thead th {\n",
              "        text-align: right;\n",
              "    }\n",
              "</style>\n",
              "<table border=\"1\" class=\"dataframe\">\n",
              "  <thead>\n",
              "    <tr style=\"text-align: right;\">\n",
              "      <th></th>\n",
              "      <th>ID</th>\n",
              "      <th>AGE</th>\n",
              "      <th>GENDER</th>\n",
              "      <th>RACE</th>\n",
              "      <th>DRIVING_EXPERIENCE</th>\n",
              "      <th>EDUCATION</th>\n",
              "      <th>INCOME</th>\n",
              "      <th>CREDIT_SCORE</th>\n",
              "      <th>VEHICLE_OWNERSHIP</th>\n",
              "      <th>VEHICLE_YEAR</th>\n",
              "      <th>MARRIED</th>\n",
              "      <th>CHILDREN</th>\n",
              "      <th>POSTAL_CODE</th>\n",
              "      <th>ANNUAL_MILEAGE</th>\n",
              "      <th>VEHICLE_TYPE</th>\n",
              "      <th>SPEEDING_VIOLATIONS</th>\n",
              "      <th>DUIS</th>\n",
              "      <th>PAST_ACCIDENTS</th>\n",
              "      <th>OUTCOME</th>\n",
              "    </tr>\n",
              "  </thead>\n",
              "  <tbody>\n",
              "    <tr>\n",
              "      <th>0</th>\n",
              "      <td>569520</td>\n",
              "      <td>65+</td>\n",
              "      <td>female</td>\n",
              "      <td>majority</td>\n",
              "      <td>0-9y</td>\n",
              "      <td>high school</td>\n",
              "      <td>upper class</td>\n",
              "      <td>0.629027</td>\n",
              "      <td>1.0</td>\n",
              "      <td>after 2015</td>\n",
              "      <td>0.0</td>\n",
              "      <td>1.0</td>\n",
              "      <td>10238</td>\n",
              "      <td>12000.0</td>\n",
              "      <td>sedan</td>\n",
              "      <td>0</td>\n",
              "      <td>0</td>\n",
              "      <td>0</td>\n",
              "      <td>0.0</td>\n",
              "    </tr>\n",
              "    <tr>\n",
              "      <th>1</th>\n",
              "      <td>750365</td>\n",
              "      <td>16-25</td>\n",
              "      <td>male</td>\n",
              "      <td>majority</td>\n",
              "      <td>0-9y</td>\n",
              "      <td>none</td>\n",
              "      <td>poverty</td>\n",
              "      <td>0.357757</td>\n",
              "      <td>0.0</td>\n",
              "      <td>before 2015</td>\n",
              "      <td>0.0</td>\n",
              "      <td>0.0</td>\n",
              "      <td>10238</td>\n",
              "      <td>16000.0</td>\n",
              "      <td>sedan</td>\n",
              "      <td>0</td>\n",
              "      <td>0</td>\n",
              "      <td>0</td>\n",
              "      <td>1.0</td>\n",
              "    </tr>\n",
              "    <tr>\n",
              "      <th>2</th>\n",
              "      <td>199901</td>\n",
              "      <td>16-25</td>\n",
              "      <td>female</td>\n",
              "      <td>majority</td>\n",
              "      <td>0-9y</td>\n",
              "      <td>high school</td>\n",
              "      <td>working class</td>\n",
              "      <td>0.493146</td>\n",
              "      <td>1.0</td>\n",
              "      <td>before 2015</td>\n",
              "      <td>0.0</td>\n",
              "      <td>0.0</td>\n",
              "      <td>10238</td>\n",
              "      <td>11000.0</td>\n",
              "      <td>sedan</td>\n",
              "      <td>0</td>\n",
              "      <td>0</td>\n",
              "      <td>0</td>\n",
              "      <td>0.0</td>\n",
              "    </tr>\n",
              "    <tr>\n",
              "      <th>3</th>\n",
              "      <td>478866</td>\n",
              "      <td>16-25</td>\n",
              "      <td>male</td>\n",
              "      <td>majority</td>\n",
              "      <td>0-9y</td>\n",
              "      <td>university</td>\n",
              "      <td>working class</td>\n",
              "      <td>0.206013</td>\n",
              "      <td>1.0</td>\n",
              "      <td>before 2015</td>\n",
              "      <td>0.0</td>\n",
              "      <td>1.0</td>\n",
              "      <td>32765</td>\n",
              "      <td>11000.0</td>\n",
              "      <td>sedan</td>\n",
              "      <td>0</td>\n",
              "      <td>0</td>\n",
              "      <td>0</td>\n",
              "      <td>0.0</td>\n",
              "    </tr>\n",
              "    <tr>\n",
              "      <th>4</th>\n",
              "      <td>731664</td>\n",
              "      <td>26-39</td>\n",
              "      <td>male</td>\n",
              "      <td>majority</td>\n",
              "      <td>10-19y</td>\n",
              "      <td>none</td>\n",
              "      <td>working class</td>\n",
              "      <td>0.388366</td>\n",
              "      <td>1.0</td>\n",
              "      <td>before 2015</td>\n",
              "      <td>0.0</td>\n",
              "      <td>0.0</td>\n",
              "      <td>32765</td>\n",
              "      <td>12000.0</td>\n",
              "      <td>sedan</td>\n",
              "      <td>2</td>\n",
              "      <td>0</td>\n",
              "      <td>1</td>\n",
              "      <td>1.0</td>\n",
              "    </tr>\n",
              "  </tbody>\n",
              "</table>\n",
              "</div>\n",
              "      <button class=\"colab-df-convert\" onclick=\"convertToInteractive('df-2e9664fa-8fc2-4a84-8963-a129d3771a4c')\"\n",
              "              title=\"Convert this dataframe to an interactive table.\"\n",
              "              style=\"display:none;\">\n",
              "        \n",
              "  <svg xmlns=\"http://www.w3.org/2000/svg\" height=\"24px\"viewBox=\"0 0 24 24\"\n",
              "       width=\"24px\">\n",
              "    <path d=\"M0 0h24v24H0V0z\" fill=\"none\"/>\n",
              "    <path d=\"M18.56 5.44l.94 2.06.94-2.06 2.06-.94-2.06-.94-.94-2.06-.94 2.06-2.06.94zm-11 1L8.5 8.5l.94-2.06 2.06-.94-2.06-.94L8.5 2.5l-.94 2.06-2.06.94zm10 10l.94 2.06.94-2.06 2.06-.94-2.06-.94-.94-2.06-.94 2.06-2.06.94z\"/><path d=\"M17.41 7.96l-1.37-1.37c-.4-.4-.92-.59-1.43-.59-.52 0-1.04.2-1.43.59L10.3 9.45l-7.72 7.72c-.78.78-.78 2.05 0 2.83L4 21.41c.39.39.9.59 1.41.59.51 0 1.02-.2 1.41-.59l7.78-7.78 2.81-2.81c.8-.78.8-2.07 0-2.86zM5.41 20L4 18.59l7.72-7.72 1.47 1.35L5.41 20z\"/>\n",
              "  </svg>\n",
              "      </button>\n",
              "      \n",
              "  <style>\n",
              "    .colab-df-container {\n",
              "      display:flex;\n",
              "      flex-wrap:wrap;\n",
              "      gap: 12px;\n",
              "    }\n",
              "\n",
              "    .colab-df-convert {\n",
              "      background-color: #E8F0FE;\n",
              "      border: none;\n",
              "      border-radius: 50%;\n",
              "      cursor: pointer;\n",
              "      display: none;\n",
              "      fill: #1967D2;\n",
              "      height: 32px;\n",
              "      padding: 0 0 0 0;\n",
              "      width: 32px;\n",
              "    }\n",
              "\n",
              "    .colab-df-convert:hover {\n",
              "      background-color: #E2EBFA;\n",
              "      box-shadow: 0px 1px 2px rgba(60, 64, 67, 0.3), 0px 1px 3px 1px rgba(60, 64, 67, 0.15);\n",
              "      fill: #174EA6;\n",
              "    }\n",
              "\n",
              "    [theme=dark] .colab-df-convert {\n",
              "      background-color: #3B4455;\n",
              "      fill: #D2E3FC;\n",
              "    }\n",
              "\n",
              "    [theme=dark] .colab-df-convert:hover {\n",
              "      background-color: #434B5C;\n",
              "      box-shadow: 0px 1px 3px 1px rgba(0, 0, 0, 0.15);\n",
              "      filter: drop-shadow(0px 1px 2px rgba(0, 0, 0, 0.3));\n",
              "      fill: #FFFFFF;\n",
              "    }\n",
              "  </style>\n",
              "\n",
              "      <script>\n",
              "        const buttonEl =\n",
              "          document.querySelector('#df-2e9664fa-8fc2-4a84-8963-a129d3771a4c button.colab-df-convert');\n",
              "        buttonEl.style.display =\n",
              "          google.colab.kernel.accessAllowed ? 'block' : 'none';\n",
              "\n",
              "        async function convertToInteractive(key) {\n",
              "          const element = document.querySelector('#df-2e9664fa-8fc2-4a84-8963-a129d3771a4c');\n",
              "          const dataTable =\n",
              "            await google.colab.kernel.invokeFunction('convertToInteractive',\n",
              "                                                     [key], {});\n",
              "          if (!dataTable) return;\n",
              "\n",
              "          const docLinkHtml = 'Like what you see? Visit the ' +\n",
              "            '<a target=\"_blank\" href=https://colab.research.google.com/notebooks/data_table.ipynb>data table notebook</a>'\n",
              "            + ' to learn more about interactive tables.';\n",
              "          element.innerHTML = '';\n",
              "          dataTable['output_type'] = 'display_data';\n",
              "          await google.colab.output.renderOutput(dataTable, element);\n",
              "          const docLink = document.createElement('div');\n",
              "          docLink.innerHTML = docLinkHtml;\n",
              "          element.appendChild(docLink);\n",
              "        }\n",
              "      </script>\n",
              "    </div>\n",
              "  </div>\n",
              "  "
            ]
          },
          "metadata": {},
          "execution_count": 4
        }
      ],
      "source": [
        "data.head()"
      ]
    },
    {
      "cell_type": "markdown",
      "metadata": {
        "id": "qhlyNGP0-WkU"
      },
      "source": [
        "Так же можно вывести последние строки (по умолчанию, 5 строк) таблицы"
      ]
    },
    {
      "cell_type": "code",
      "execution_count": 5,
      "metadata": {
        "colab": {
          "base_uri": "https://localhost:8080/",
          "height": 357
        },
        "id": "F-4TqYQX-WkU",
        "outputId": "4ec32b5c-ae9d-490a-d20e-723c9033c68b"
      },
      "outputs": [
        {
          "output_type": "execute_result",
          "data": {
            "text/plain": [
              "          ID    AGE  GENDER      RACE DRIVING_EXPERIENCE    EDUCATION  \\\n",
              "9995  323164  26-39  female  majority             10-19y   university   \n",
              "9996  910346  26-39  female  majority             10-19y         none   \n",
              "9997  468409  26-39    male  majority               0-9y  high school   \n",
              "9998  903459  26-39  female  majority             10-19y  high school   \n",
              "9999  442696  26-39  female  majority               0-9y         none   \n",
              "\n",
              "             INCOME  CREDIT_SCORE  VEHICLE_OWNERSHIP VEHICLE_YEAR  MARRIED  \\\n",
              "9995    upper class      0.582787                1.0  before 2015      0.0   \n",
              "9996   middle class      0.522231                1.0   after 2015      0.0   \n",
              "9997   middle class      0.470940                1.0  before 2015      0.0   \n",
              "9998        poverty      0.364185                0.0  before 2015      0.0   \n",
              "9999  working class      0.435225                1.0  before 2015      1.0   \n",
              "\n",
              "      CHILDREN  POSTAL_CODE  ANNUAL_MILEAGE VEHICLE_TYPE  SPEEDING_VIOLATIONS  \\\n",
              "9995       0.0        10238         16000.0        sedan                    0   \n",
              "9996       1.0        32765             NaN        sedan                    1   \n",
              "9997       1.0        10238         14000.0        sedan                    0   \n",
              "9998       1.0        10238         13000.0        sedan                    2   \n",
              "9999       1.0        10238         13000.0        sedan                    0   \n",
              "\n",
              "      DUIS  PAST_ACCIDENTS  OUTCOME  \n",
              "9995     0               1      0.0  \n",
              "9996     0               0      0.0  \n",
              "9997     0               0      0.0  \n",
              "9998     0               1      1.0  \n",
              "9999     0               0      0.0  "
            ],
            "text/html": [
              "\n",
              "  <div id=\"df-3c5b72f4-3514-4acd-bbf7-0e18a9c47990\">\n",
              "    <div class=\"colab-df-container\">\n",
              "      <div>\n",
              "<style scoped>\n",
              "    .dataframe tbody tr th:only-of-type {\n",
              "        vertical-align: middle;\n",
              "    }\n",
              "\n",
              "    .dataframe tbody tr th {\n",
              "        vertical-align: top;\n",
              "    }\n",
              "\n",
              "    .dataframe thead th {\n",
              "        text-align: right;\n",
              "    }\n",
              "</style>\n",
              "<table border=\"1\" class=\"dataframe\">\n",
              "  <thead>\n",
              "    <tr style=\"text-align: right;\">\n",
              "      <th></th>\n",
              "      <th>ID</th>\n",
              "      <th>AGE</th>\n",
              "      <th>GENDER</th>\n",
              "      <th>RACE</th>\n",
              "      <th>DRIVING_EXPERIENCE</th>\n",
              "      <th>EDUCATION</th>\n",
              "      <th>INCOME</th>\n",
              "      <th>CREDIT_SCORE</th>\n",
              "      <th>VEHICLE_OWNERSHIP</th>\n",
              "      <th>VEHICLE_YEAR</th>\n",
              "      <th>MARRIED</th>\n",
              "      <th>CHILDREN</th>\n",
              "      <th>POSTAL_CODE</th>\n",
              "      <th>ANNUAL_MILEAGE</th>\n",
              "      <th>VEHICLE_TYPE</th>\n",
              "      <th>SPEEDING_VIOLATIONS</th>\n",
              "      <th>DUIS</th>\n",
              "      <th>PAST_ACCIDENTS</th>\n",
              "      <th>OUTCOME</th>\n",
              "    </tr>\n",
              "  </thead>\n",
              "  <tbody>\n",
              "    <tr>\n",
              "      <th>9995</th>\n",
              "      <td>323164</td>\n",
              "      <td>26-39</td>\n",
              "      <td>female</td>\n",
              "      <td>majority</td>\n",
              "      <td>10-19y</td>\n",
              "      <td>university</td>\n",
              "      <td>upper class</td>\n",
              "      <td>0.582787</td>\n",
              "      <td>1.0</td>\n",
              "      <td>before 2015</td>\n",
              "      <td>0.0</td>\n",
              "      <td>0.0</td>\n",
              "      <td>10238</td>\n",
              "      <td>16000.0</td>\n",
              "      <td>sedan</td>\n",
              "      <td>0</td>\n",
              "      <td>0</td>\n",
              "      <td>1</td>\n",
              "      <td>0.0</td>\n",
              "    </tr>\n",
              "    <tr>\n",
              "      <th>9996</th>\n",
              "      <td>910346</td>\n",
              "      <td>26-39</td>\n",
              "      <td>female</td>\n",
              "      <td>majority</td>\n",
              "      <td>10-19y</td>\n",
              "      <td>none</td>\n",
              "      <td>middle class</td>\n",
              "      <td>0.522231</td>\n",
              "      <td>1.0</td>\n",
              "      <td>after 2015</td>\n",
              "      <td>0.0</td>\n",
              "      <td>1.0</td>\n",
              "      <td>32765</td>\n",
              "      <td>NaN</td>\n",
              "      <td>sedan</td>\n",
              "      <td>1</td>\n",
              "      <td>0</td>\n",
              "      <td>0</td>\n",
              "      <td>0.0</td>\n",
              "    </tr>\n",
              "    <tr>\n",
              "      <th>9997</th>\n",
              "      <td>468409</td>\n",
              "      <td>26-39</td>\n",
              "      <td>male</td>\n",
              "      <td>majority</td>\n",
              "      <td>0-9y</td>\n",
              "      <td>high school</td>\n",
              "      <td>middle class</td>\n",
              "      <td>0.470940</td>\n",
              "      <td>1.0</td>\n",
              "      <td>before 2015</td>\n",
              "      <td>0.0</td>\n",
              "      <td>1.0</td>\n",
              "      <td>10238</td>\n",
              "      <td>14000.0</td>\n",
              "      <td>sedan</td>\n",
              "      <td>0</td>\n",
              "      <td>0</td>\n",
              "      <td>0</td>\n",
              "      <td>0.0</td>\n",
              "    </tr>\n",
              "    <tr>\n",
              "      <th>9998</th>\n",
              "      <td>903459</td>\n",
              "      <td>26-39</td>\n",
              "      <td>female</td>\n",
              "      <td>majority</td>\n",
              "      <td>10-19y</td>\n",
              "      <td>high school</td>\n",
              "      <td>poverty</td>\n",
              "      <td>0.364185</td>\n",
              "      <td>0.0</td>\n",
              "      <td>before 2015</td>\n",
              "      <td>0.0</td>\n",
              "      <td>1.0</td>\n",
              "      <td>10238</td>\n",
              "      <td>13000.0</td>\n",
              "      <td>sedan</td>\n",
              "      <td>2</td>\n",
              "      <td>0</td>\n",
              "      <td>1</td>\n",
              "      <td>1.0</td>\n",
              "    </tr>\n",
              "    <tr>\n",
              "      <th>9999</th>\n",
              "      <td>442696</td>\n",
              "      <td>26-39</td>\n",
              "      <td>female</td>\n",
              "      <td>majority</td>\n",
              "      <td>0-9y</td>\n",
              "      <td>none</td>\n",
              "      <td>working class</td>\n",
              "      <td>0.435225</td>\n",
              "      <td>1.0</td>\n",
              "      <td>before 2015</td>\n",
              "      <td>1.0</td>\n",
              "      <td>1.0</td>\n",
              "      <td>10238</td>\n",
              "      <td>13000.0</td>\n",
              "      <td>sedan</td>\n",
              "      <td>0</td>\n",
              "      <td>0</td>\n",
              "      <td>0</td>\n",
              "      <td>0.0</td>\n",
              "    </tr>\n",
              "  </tbody>\n",
              "</table>\n",
              "</div>\n",
              "      <button class=\"colab-df-convert\" onclick=\"convertToInteractive('df-3c5b72f4-3514-4acd-bbf7-0e18a9c47990')\"\n",
              "              title=\"Convert this dataframe to an interactive table.\"\n",
              "              style=\"display:none;\">\n",
              "        \n",
              "  <svg xmlns=\"http://www.w3.org/2000/svg\" height=\"24px\"viewBox=\"0 0 24 24\"\n",
              "       width=\"24px\">\n",
              "    <path d=\"M0 0h24v24H0V0z\" fill=\"none\"/>\n",
              "    <path d=\"M18.56 5.44l.94 2.06.94-2.06 2.06-.94-2.06-.94-.94-2.06-.94 2.06-2.06.94zm-11 1L8.5 8.5l.94-2.06 2.06-.94-2.06-.94L8.5 2.5l-.94 2.06-2.06.94zm10 10l.94 2.06.94-2.06 2.06-.94-2.06-.94-.94-2.06-.94 2.06-2.06.94z\"/><path d=\"M17.41 7.96l-1.37-1.37c-.4-.4-.92-.59-1.43-.59-.52 0-1.04.2-1.43.59L10.3 9.45l-7.72 7.72c-.78.78-.78 2.05 0 2.83L4 21.41c.39.39.9.59 1.41.59.51 0 1.02-.2 1.41-.59l7.78-7.78 2.81-2.81c.8-.78.8-2.07 0-2.86zM5.41 20L4 18.59l7.72-7.72 1.47 1.35L5.41 20z\"/>\n",
              "  </svg>\n",
              "      </button>\n",
              "      \n",
              "  <style>\n",
              "    .colab-df-container {\n",
              "      display:flex;\n",
              "      flex-wrap:wrap;\n",
              "      gap: 12px;\n",
              "    }\n",
              "\n",
              "    .colab-df-convert {\n",
              "      background-color: #E8F0FE;\n",
              "      border: none;\n",
              "      border-radius: 50%;\n",
              "      cursor: pointer;\n",
              "      display: none;\n",
              "      fill: #1967D2;\n",
              "      height: 32px;\n",
              "      padding: 0 0 0 0;\n",
              "      width: 32px;\n",
              "    }\n",
              "\n",
              "    .colab-df-convert:hover {\n",
              "      background-color: #E2EBFA;\n",
              "      box-shadow: 0px 1px 2px rgba(60, 64, 67, 0.3), 0px 1px 3px 1px rgba(60, 64, 67, 0.15);\n",
              "      fill: #174EA6;\n",
              "    }\n",
              "\n",
              "    [theme=dark] .colab-df-convert {\n",
              "      background-color: #3B4455;\n",
              "      fill: #D2E3FC;\n",
              "    }\n",
              "\n",
              "    [theme=dark] .colab-df-convert:hover {\n",
              "      background-color: #434B5C;\n",
              "      box-shadow: 0px 1px 3px 1px rgba(0, 0, 0, 0.15);\n",
              "      filter: drop-shadow(0px 1px 2px rgba(0, 0, 0, 0.3));\n",
              "      fill: #FFFFFF;\n",
              "    }\n",
              "  </style>\n",
              "\n",
              "      <script>\n",
              "        const buttonEl =\n",
              "          document.querySelector('#df-3c5b72f4-3514-4acd-bbf7-0e18a9c47990 button.colab-df-convert');\n",
              "        buttonEl.style.display =\n",
              "          google.colab.kernel.accessAllowed ? 'block' : 'none';\n",
              "\n",
              "        async function convertToInteractive(key) {\n",
              "          const element = document.querySelector('#df-3c5b72f4-3514-4acd-bbf7-0e18a9c47990');\n",
              "          const dataTable =\n",
              "            await google.colab.kernel.invokeFunction('convertToInteractive',\n",
              "                                                     [key], {});\n",
              "          if (!dataTable) return;\n",
              "\n",
              "          const docLinkHtml = 'Like what you see? Visit the ' +\n",
              "            '<a target=\"_blank\" href=https://colab.research.google.com/notebooks/data_table.ipynb>data table notebook</a>'\n",
              "            + ' to learn more about interactive tables.';\n",
              "          element.innerHTML = '';\n",
              "          dataTable['output_type'] = 'display_data';\n",
              "          await google.colab.output.renderOutput(dataTable, element);\n",
              "          const docLink = document.createElement('div');\n",
              "          docLink.innerHTML = docLinkHtml;\n",
              "          element.appendChild(docLink);\n",
              "        }\n",
              "      </script>\n",
              "    </div>\n",
              "  </div>\n",
              "  "
            ]
          },
          "metadata": {},
          "execution_count": 5
        }
      ],
      "source": [
        "data.tail()"
      ]
    },
    {
      "cell_type": "markdown",
      "metadata": {
        "id": "AjNO4Fxu-WkU"
      },
      "source": [
        "Имена столбцов (признаков) можно получить таким образом:"
      ]
    },
    {
      "cell_type": "code",
      "execution_count": 6,
      "metadata": {
        "colab": {
          "base_uri": "https://localhost:8080/"
        },
        "id": "xc19j5Hm-WkV",
        "outputId": "b46c0e3b-2a0b-4ecf-f876-28738049e77d"
      },
      "outputs": [
        {
          "output_type": "execute_result",
          "data": {
            "text/plain": [
              "Index(['ID', 'AGE', 'GENDER', 'RACE', 'DRIVING_EXPERIENCE', 'EDUCATION',\n",
              "       'INCOME', 'CREDIT_SCORE', 'VEHICLE_OWNERSHIP', 'VEHICLE_YEAR',\n",
              "       'MARRIED', 'CHILDREN', 'POSTAL_CODE', 'ANNUAL_MILEAGE', 'VEHICLE_TYPE',\n",
              "       'SPEEDING_VIOLATIONS', 'DUIS', 'PAST_ACCIDENTS', 'OUTCOME'],\n",
              "      dtype='object')"
            ]
          },
          "metadata": {},
          "execution_count": 6
        }
      ],
      "source": [
        "data.columns"
      ]
    },
    {
      "cell_type": "markdown",
      "metadata": {
        "id": "wGv-OeDY-WkV"
      },
      "source": [
        "Мы видим, что столбцы (признаки) имеют имена\n",
        "\n",
        "\n",
        "*   ID - индентификатор клиента\n",
        "*   AGE - возраст \n",
        "*   GENDER - пол \n",
        "*   RACE - стиль вождения\n",
        "*   DRIVING_EXPERIENCE - стаж вождения\n",
        "*   EDUCATION - образование\n",
        "*   INCOME - уровень дохода\n",
        "*   CREDIT_SCORE - кредитный рейтинг\n",
        "*   VEHICLE_OWNERSHIP - владение автомобилем\n",
        "*   VEHICLE_YEAR - год выпуска автомобиля\n",
        "*   MARRIED - семейное положение\n",
        "*   CHILDREN - наличие детей\n",
        "*   POSTAL_CODE - почтовый индекс\n",
        "*   ANNUAL_MILEAGE - годовой пробег автомобиля\n",
        "*   VEHICLE_TYPE - тип автомобиля\n",
        "*   SPEEDING_VIOLATIONS - количество штрафов\n",
        "*   DUIS - вождение в нетрезвом виде\n",
        "*   PAST_ACCIDENTS - число аварий\n",
        "*   OUTCOME - исход\n",
        "\n",
        "    Это будут наши классы данных, с которыми мы будем работать:\n",
        "    * 0 - не требуется страховая выплата\n",
        "    * 1 - требуется страховая выплата\n",
        "\n",
        "Требуется предсказать бинарный категориальный признак OUTCOME по остальным признакам. Это задача классификации.\n",
        "\n",
        "Выведем тип данных всех столбцов, представленных в таблице:"
      ]
    },
    {
      "cell_type": "code",
      "execution_count": 7,
      "metadata": {
        "colab": {
          "base_uri": "https://localhost:8080/"
        },
        "id": "Zf6Q5F3W-WkV",
        "outputId": "33b36a79-6f58-4f39-ab2b-71c08d168669"
      },
      "outputs": [
        {
          "output_type": "execute_result",
          "data": {
            "text/plain": [
              "ID                       int64\n",
              "AGE                     object\n",
              "GENDER                  object\n",
              "RACE                    object\n",
              "DRIVING_EXPERIENCE      object\n",
              "EDUCATION               object\n",
              "INCOME                  object\n",
              "CREDIT_SCORE           float64\n",
              "VEHICLE_OWNERSHIP      float64\n",
              "VEHICLE_YEAR            object\n",
              "MARRIED                float64\n",
              "CHILDREN               float64\n",
              "POSTAL_CODE              int64\n",
              "ANNUAL_MILEAGE         float64\n",
              "VEHICLE_TYPE            object\n",
              "SPEEDING_VIOLATIONS      int64\n",
              "DUIS                     int64\n",
              "PAST_ACCIDENTS           int64\n",
              "OUTCOME                float64\n",
              "dtype: object"
            ]
          },
          "metadata": {},
          "execution_count": 7
        }
      ],
      "source": [
        "data.dtypes"
      ]
    },
    {
      "cell_type": "markdown",
      "metadata": {
        "id": "t2E2p96G-WkV"
      },
      "source": [
        "Столбцы, имеющие тип 'Object' содержат категориальные значения. Приведём их к специальному типу, предназначенному для хранения категориальных значений."
      ]
    },
    {
      "cell_type": "code",
      "execution_count": 8,
      "metadata": {
        "id": "Xgzwmmb_-WkW"
      },
      "outputs": [],
      "source": [
        "data['AGE'] = data['AGE'].astype('category')\n",
        "data['GENDER'] = data['GENDER'].astype('category')\n",
        "data['RACE'] = data['RACE'].astype('category')\n",
        "data['DRIVING_EXPERIENCE'] = data['DRIVING_EXPERIENCE'].astype('category')\n",
        "data['EDUCATION'] = data['EDUCATION'].astype('category')\n",
        "data['INCOME'] = data['INCOME'].astype('category')\n",
        "data['VEHICLE_YEAR'] = data['VEHICLE_YEAR'].astype('category')\n",
        "data['VEHICLE_TYPE'] = data['VEHICLE_TYPE'].astype('category')"
      ]
    },
    {
      "cell_type": "markdown",
      "metadata": {
        "id": "uurpD-OP-WkW"
      },
      "source": [
        "Изменим тип данных бинарных признаков(в том числе целевой), на bool, чтобы при рассмотрении статистики и визуализации они не входили в обзор вместе с количественными. После этого преобразования соответствующие им столбцы будут иметь значения True или False."
      ]
    },
    {
      "cell_type": "code",
      "execution_count": 9,
      "metadata": {
        "id": "1LeYmeXb-WkW"
      },
      "outputs": [],
      "source": [
        "data[\"VEHICLE_OWNERSHIP\"] = data[\"VEHICLE_OWNERSHIP\"].astype('bool')\n",
        "data[\"MARRIED\"] = data[\"MARRIED\"].astype('bool')\n",
        "data[\"CHILDREN\"] = data[\"CHILDREN\"].astype('bool')\n",
        "data[\"OUTCOME\"] = data[\"OUTCOME\"].astype('bool')"
      ]
    },
    {
      "cell_type": "code",
      "execution_count": 10,
      "metadata": {
        "colab": {
          "base_uri": "https://localhost:8080/"
        },
        "id": "2xmfA795-WkW",
        "outputId": "e71c3353-64e6-4e1a-9c64-9813d9f3637c"
      },
      "outputs": [
        {
          "output_type": "execute_result",
          "data": {
            "text/plain": [
              "ID                        int64\n",
              "AGE                    category\n",
              "GENDER                 category\n",
              "RACE                   category\n",
              "DRIVING_EXPERIENCE     category\n",
              "EDUCATION              category\n",
              "INCOME                 category\n",
              "CREDIT_SCORE            float64\n",
              "VEHICLE_OWNERSHIP          bool\n",
              "VEHICLE_YEAR           category\n",
              "MARRIED                    bool\n",
              "CHILDREN                   bool\n",
              "POSTAL_CODE               int64\n",
              "ANNUAL_MILEAGE          float64\n",
              "VEHICLE_TYPE           category\n",
              "SPEEDING_VIOLATIONS       int64\n",
              "DUIS                      int64\n",
              "PAST_ACCIDENTS            int64\n",
              "OUTCOME                    bool\n",
              "dtype: object"
            ]
          },
          "metadata": {},
          "execution_count": 10
        }
      ],
      "source": [
        "data.dtypes"
      ]
    },
    {
      "cell_type": "markdown",
      "metadata": {
        "id": "oN6SeEyx-WkW"
      },
      "source": [
        "### **2. Визуализация данных и вычисление основных характеристик**\n",
        "Сводную информацию о признаках можем получить, вызвав метод describe, показывающий количество значений, средние значения, стандартное отклонение, минимальное и макимальное значения, медиана и значения квартилей."
      ]
    },
    {
      "cell_type": "code",
      "execution_count": 11,
      "metadata": {
        "colab": {
          "base_uri": "https://localhost:8080/",
          "height": 300
        },
        "id": "-e6M3oOE-WkW",
        "outputId": "e126fffd-db49-4eae-ffee-c8a73400d1d4"
      },
      "outputs": [
        {
          "output_type": "execute_result",
          "data": {
            "text/plain": [
              "                  ID  CREDIT_SCORE   POSTAL_CODE  ANNUAL_MILEAGE  \\\n",
              "count   10000.000000   9018.000000  10000.000000     9043.000000   \n",
              "mean   500521.906800      0.515813  19864.548400    11697.003207   \n",
              "std    290030.768758      0.137688  18915.613855     2818.434528   \n",
              "min       101.000000      0.053358  10238.000000     2000.000000   \n",
              "25%    249638.500000      0.417191  10238.000000    10000.000000   \n",
              "50%    501777.000000      0.525033  10238.000000    12000.000000   \n",
              "75%    753974.500000      0.618312  32765.000000    14000.000000   \n",
              "max    999976.000000      0.960819  92101.000000    22000.000000   \n",
              "\n",
              "       SPEEDING_VIOLATIONS         DUIS  PAST_ACCIDENTS  \n",
              "count         10000.000000  10000.00000    10000.000000  \n",
              "mean              1.482900      0.23920        1.056300  \n",
              "std               2.241966      0.55499        1.652454  \n",
              "min               0.000000      0.00000        0.000000  \n",
              "25%               0.000000      0.00000        0.000000  \n",
              "50%               0.000000      0.00000        0.000000  \n",
              "75%               2.000000      0.00000        2.000000  \n",
              "max              22.000000      6.00000       15.000000  "
            ],
            "text/html": [
              "\n",
              "  <div id=\"df-24f60756-e5e7-4c64-8579-b1460d80c88b\">\n",
              "    <div class=\"colab-df-container\">\n",
              "      <div>\n",
              "<style scoped>\n",
              "    .dataframe tbody tr th:only-of-type {\n",
              "        vertical-align: middle;\n",
              "    }\n",
              "\n",
              "    .dataframe tbody tr th {\n",
              "        vertical-align: top;\n",
              "    }\n",
              "\n",
              "    .dataframe thead th {\n",
              "        text-align: right;\n",
              "    }\n",
              "</style>\n",
              "<table border=\"1\" class=\"dataframe\">\n",
              "  <thead>\n",
              "    <tr style=\"text-align: right;\">\n",
              "      <th></th>\n",
              "      <th>ID</th>\n",
              "      <th>CREDIT_SCORE</th>\n",
              "      <th>POSTAL_CODE</th>\n",
              "      <th>ANNUAL_MILEAGE</th>\n",
              "      <th>SPEEDING_VIOLATIONS</th>\n",
              "      <th>DUIS</th>\n",
              "      <th>PAST_ACCIDENTS</th>\n",
              "    </tr>\n",
              "  </thead>\n",
              "  <tbody>\n",
              "    <tr>\n",
              "      <th>count</th>\n",
              "      <td>10000.000000</td>\n",
              "      <td>9018.000000</td>\n",
              "      <td>10000.000000</td>\n",
              "      <td>9043.000000</td>\n",
              "      <td>10000.000000</td>\n",
              "      <td>10000.00000</td>\n",
              "      <td>10000.000000</td>\n",
              "    </tr>\n",
              "    <tr>\n",
              "      <th>mean</th>\n",
              "      <td>500521.906800</td>\n",
              "      <td>0.515813</td>\n",
              "      <td>19864.548400</td>\n",
              "      <td>11697.003207</td>\n",
              "      <td>1.482900</td>\n",
              "      <td>0.23920</td>\n",
              "      <td>1.056300</td>\n",
              "    </tr>\n",
              "    <tr>\n",
              "      <th>std</th>\n",
              "      <td>290030.768758</td>\n",
              "      <td>0.137688</td>\n",
              "      <td>18915.613855</td>\n",
              "      <td>2818.434528</td>\n",
              "      <td>2.241966</td>\n",
              "      <td>0.55499</td>\n",
              "      <td>1.652454</td>\n",
              "    </tr>\n",
              "    <tr>\n",
              "      <th>min</th>\n",
              "      <td>101.000000</td>\n",
              "      <td>0.053358</td>\n",
              "      <td>10238.000000</td>\n",
              "      <td>2000.000000</td>\n",
              "      <td>0.000000</td>\n",
              "      <td>0.00000</td>\n",
              "      <td>0.000000</td>\n",
              "    </tr>\n",
              "    <tr>\n",
              "      <th>25%</th>\n",
              "      <td>249638.500000</td>\n",
              "      <td>0.417191</td>\n",
              "      <td>10238.000000</td>\n",
              "      <td>10000.000000</td>\n",
              "      <td>0.000000</td>\n",
              "      <td>0.00000</td>\n",
              "      <td>0.000000</td>\n",
              "    </tr>\n",
              "    <tr>\n",
              "      <th>50%</th>\n",
              "      <td>501777.000000</td>\n",
              "      <td>0.525033</td>\n",
              "      <td>10238.000000</td>\n",
              "      <td>12000.000000</td>\n",
              "      <td>0.000000</td>\n",
              "      <td>0.00000</td>\n",
              "      <td>0.000000</td>\n",
              "    </tr>\n",
              "    <tr>\n",
              "      <th>75%</th>\n",
              "      <td>753974.500000</td>\n",
              "      <td>0.618312</td>\n",
              "      <td>32765.000000</td>\n",
              "      <td>14000.000000</td>\n",
              "      <td>2.000000</td>\n",
              "      <td>0.00000</td>\n",
              "      <td>2.000000</td>\n",
              "    </tr>\n",
              "    <tr>\n",
              "      <th>max</th>\n",
              "      <td>999976.000000</td>\n",
              "      <td>0.960819</td>\n",
              "      <td>92101.000000</td>\n",
              "      <td>22000.000000</td>\n",
              "      <td>22.000000</td>\n",
              "      <td>6.00000</td>\n",
              "      <td>15.000000</td>\n",
              "    </tr>\n",
              "  </tbody>\n",
              "</table>\n",
              "</div>\n",
              "      <button class=\"colab-df-convert\" onclick=\"convertToInteractive('df-24f60756-e5e7-4c64-8579-b1460d80c88b')\"\n",
              "              title=\"Convert this dataframe to an interactive table.\"\n",
              "              style=\"display:none;\">\n",
              "        \n",
              "  <svg xmlns=\"http://www.w3.org/2000/svg\" height=\"24px\"viewBox=\"0 0 24 24\"\n",
              "       width=\"24px\">\n",
              "    <path d=\"M0 0h24v24H0V0z\" fill=\"none\"/>\n",
              "    <path d=\"M18.56 5.44l.94 2.06.94-2.06 2.06-.94-2.06-.94-.94-2.06-.94 2.06-2.06.94zm-11 1L8.5 8.5l.94-2.06 2.06-.94-2.06-.94L8.5 2.5l-.94 2.06-2.06.94zm10 10l.94 2.06.94-2.06 2.06-.94-2.06-.94-.94-2.06-.94 2.06-2.06.94z\"/><path d=\"M17.41 7.96l-1.37-1.37c-.4-.4-.92-.59-1.43-.59-.52 0-1.04.2-1.43.59L10.3 9.45l-7.72 7.72c-.78.78-.78 2.05 0 2.83L4 21.41c.39.39.9.59 1.41.59.51 0 1.02-.2 1.41-.59l7.78-7.78 2.81-2.81c.8-.78.8-2.07 0-2.86zM5.41 20L4 18.59l7.72-7.72 1.47 1.35L5.41 20z\"/>\n",
              "  </svg>\n",
              "      </button>\n",
              "      \n",
              "  <style>\n",
              "    .colab-df-container {\n",
              "      display:flex;\n",
              "      flex-wrap:wrap;\n",
              "      gap: 12px;\n",
              "    }\n",
              "\n",
              "    .colab-df-convert {\n",
              "      background-color: #E8F0FE;\n",
              "      border: none;\n",
              "      border-radius: 50%;\n",
              "      cursor: pointer;\n",
              "      display: none;\n",
              "      fill: #1967D2;\n",
              "      height: 32px;\n",
              "      padding: 0 0 0 0;\n",
              "      width: 32px;\n",
              "    }\n",
              "\n",
              "    .colab-df-convert:hover {\n",
              "      background-color: #E2EBFA;\n",
              "      box-shadow: 0px 1px 2px rgba(60, 64, 67, 0.3), 0px 1px 3px 1px rgba(60, 64, 67, 0.15);\n",
              "      fill: #174EA6;\n",
              "    }\n",
              "\n",
              "    [theme=dark] .colab-df-convert {\n",
              "      background-color: #3B4455;\n",
              "      fill: #D2E3FC;\n",
              "    }\n",
              "\n",
              "    [theme=dark] .colab-df-convert:hover {\n",
              "      background-color: #434B5C;\n",
              "      box-shadow: 0px 1px 3px 1px rgba(0, 0, 0, 0.15);\n",
              "      filter: drop-shadow(0px 1px 2px rgba(0, 0, 0, 0.3));\n",
              "      fill: #FFFFFF;\n",
              "    }\n",
              "  </style>\n",
              "\n",
              "      <script>\n",
              "        const buttonEl =\n",
              "          document.querySelector('#df-24f60756-e5e7-4c64-8579-b1460d80c88b button.colab-df-convert');\n",
              "        buttonEl.style.display =\n",
              "          google.colab.kernel.accessAllowed ? 'block' : 'none';\n",
              "\n",
              "        async function convertToInteractive(key) {\n",
              "          const element = document.querySelector('#df-24f60756-e5e7-4c64-8579-b1460d80c88b');\n",
              "          const dataTable =\n",
              "            await google.colab.kernel.invokeFunction('convertToInteractive',\n",
              "                                                     [key], {});\n",
              "          if (!dataTable) return;\n",
              "\n",
              "          const docLinkHtml = 'Like what you see? Visit the ' +\n",
              "            '<a target=\"_blank\" href=https://colab.research.google.com/notebooks/data_table.ipynb>data table notebook</a>'\n",
              "            + ' to learn more about interactive tables.';\n",
              "          element.innerHTML = '';\n",
              "          dataTable['output_type'] = 'display_data';\n",
              "          await google.colab.output.renderOutput(dataTable, element);\n",
              "          const docLink = document.createElement('div');\n",
              "          docLink.innerHTML = docLinkHtml;\n",
              "          element.appendChild(docLink);\n",
              "        }\n",
              "      </script>\n",
              "    </div>\n",
              "  </div>\n",
              "  "
            ]
          },
          "metadata": {},
          "execution_count": 11
        }
      ],
      "source": [
        "data.describe()"
      ]
    },
    {
      "cell_type": "markdown",
      "metadata": {
        "id": "AvUc3539-WkX"
      },
      "source": [
        "Из этих данных можно сделать вывод, что большинство обратившихся в страховую компанию ранее не имели зафикированных превышений скорости, не попадали в страховые случаи и не были замечены в вождении в нетрезвом виде.\n",
        "\n",
        "По умолчанию этот метод дает информацию только о количественных признаках. Получим информацию о категориальных, а именно количество значений, количество уникальных значений, самое распространенные значение и частота наиболее распространенного значения."
      ]
    },
    {
      "cell_type": "code",
      "execution_count": 12,
      "metadata": {
        "colab": {
          "base_uri": "https://localhost:8080/",
          "height": 175
        },
        "id": "o8zqofTO-WkX",
        "outputId": "6242dc4b-5338-402c-9ac7-39718d6ad81d"
      },
      "outputs": [
        {
          "output_type": "execute_result",
          "data": {
            "text/plain": [
              "          AGE  GENDER      RACE DRIVING_EXPERIENCE    EDUCATION       INCOME  \\\n",
              "count   10000   10000     10000              10000        10000        10000   \n",
              "unique      4       2         2                  4            3            4   \n",
              "top     26-39  female  majority               0-9y  high school  upper class   \n",
              "freq     3063    5010      9012               3530         4157         4336   \n",
              "\n",
              "       VEHICLE_YEAR VEHICLE_TYPE  \n",
              "count         10000        10000  \n",
              "unique            2            2  \n",
              "top     before 2015        sedan  \n",
              "freq           6967         9523  "
            ],
            "text/html": [
              "\n",
              "  <div id=\"df-97f7a0c6-21d7-4679-8e59-b8c86696514d\">\n",
              "    <div class=\"colab-df-container\">\n",
              "      <div>\n",
              "<style scoped>\n",
              "    .dataframe tbody tr th:only-of-type {\n",
              "        vertical-align: middle;\n",
              "    }\n",
              "\n",
              "    .dataframe tbody tr th {\n",
              "        vertical-align: top;\n",
              "    }\n",
              "\n",
              "    .dataframe thead th {\n",
              "        text-align: right;\n",
              "    }\n",
              "</style>\n",
              "<table border=\"1\" class=\"dataframe\">\n",
              "  <thead>\n",
              "    <tr style=\"text-align: right;\">\n",
              "      <th></th>\n",
              "      <th>AGE</th>\n",
              "      <th>GENDER</th>\n",
              "      <th>RACE</th>\n",
              "      <th>DRIVING_EXPERIENCE</th>\n",
              "      <th>EDUCATION</th>\n",
              "      <th>INCOME</th>\n",
              "      <th>VEHICLE_YEAR</th>\n",
              "      <th>VEHICLE_TYPE</th>\n",
              "    </tr>\n",
              "  </thead>\n",
              "  <tbody>\n",
              "    <tr>\n",
              "      <th>count</th>\n",
              "      <td>10000</td>\n",
              "      <td>10000</td>\n",
              "      <td>10000</td>\n",
              "      <td>10000</td>\n",
              "      <td>10000</td>\n",
              "      <td>10000</td>\n",
              "      <td>10000</td>\n",
              "      <td>10000</td>\n",
              "    </tr>\n",
              "    <tr>\n",
              "      <th>unique</th>\n",
              "      <td>4</td>\n",
              "      <td>2</td>\n",
              "      <td>2</td>\n",
              "      <td>4</td>\n",
              "      <td>3</td>\n",
              "      <td>4</td>\n",
              "      <td>2</td>\n",
              "      <td>2</td>\n",
              "    </tr>\n",
              "    <tr>\n",
              "      <th>top</th>\n",
              "      <td>26-39</td>\n",
              "      <td>female</td>\n",
              "      <td>majority</td>\n",
              "      <td>0-9y</td>\n",
              "      <td>high school</td>\n",
              "      <td>upper class</td>\n",
              "      <td>before 2015</td>\n",
              "      <td>sedan</td>\n",
              "    </tr>\n",
              "    <tr>\n",
              "      <th>freq</th>\n",
              "      <td>3063</td>\n",
              "      <td>5010</td>\n",
              "      <td>9012</td>\n",
              "      <td>3530</td>\n",
              "      <td>4157</td>\n",
              "      <td>4336</td>\n",
              "      <td>6967</td>\n",
              "      <td>9523</td>\n",
              "    </tr>\n",
              "  </tbody>\n",
              "</table>\n",
              "</div>\n",
              "      <button class=\"colab-df-convert\" onclick=\"convertToInteractive('df-97f7a0c6-21d7-4679-8e59-b8c86696514d')\"\n",
              "              title=\"Convert this dataframe to an interactive table.\"\n",
              "              style=\"display:none;\">\n",
              "        \n",
              "  <svg xmlns=\"http://www.w3.org/2000/svg\" height=\"24px\"viewBox=\"0 0 24 24\"\n",
              "       width=\"24px\">\n",
              "    <path d=\"M0 0h24v24H0V0z\" fill=\"none\"/>\n",
              "    <path d=\"M18.56 5.44l.94 2.06.94-2.06 2.06-.94-2.06-.94-.94-2.06-.94 2.06-2.06.94zm-11 1L8.5 8.5l.94-2.06 2.06-.94-2.06-.94L8.5 2.5l-.94 2.06-2.06.94zm10 10l.94 2.06.94-2.06 2.06-.94-2.06-.94-.94-2.06-.94 2.06-2.06.94z\"/><path d=\"M17.41 7.96l-1.37-1.37c-.4-.4-.92-.59-1.43-.59-.52 0-1.04.2-1.43.59L10.3 9.45l-7.72 7.72c-.78.78-.78 2.05 0 2.83L4 21.41c.39.39.9.59 1.41.59.51 0 1.02-.2 1.41-.59l7.78-7.78 2.81-2.81c.8-.78.8-2.07 0-2.86zM5.41 20L4 18.59l7.72-7.72 1.47 1.35L5.41 20z\"/>\n",
              "  </svg>\n",
              "      </button>\n",
              "      \n",
              "  <style>\n",
              "    .colab-df-container {\n",
              "      display:flex;\n",
              "      flex-wrap:wrap;\n",
              "      gap: 12px;\n",
              "    }\n",
              "\n",
              "    .colab-df-convert {\n",
              "      background-color: #E8F0FE;\n",
              "      border: none;\n",
              "      border-radius: 50%;\n",
              "      cursor: pointer;\n",
              "      display: none;\n",
              "      fill: #1967D2;\n",
              "      height: 32px;\n",
              "      padding: 0 0 0 0;\n",
              "      width: 32px;\n",
              "    }\n",
              "\n",
              "    .colab-df-convert:hover {\n",
              "      background-color: #E2EBFA;\n",
              "      box-shadow: 0px 1px 2px rgba(60, 64, 67, 0.3), 0px 1px 3px 1px rgba(60, 64, 67, 0.15);\n",
              "      fill: #174EA6;\n",
              "    }\n",
              "\n",
              "    [theme=dark] .colab-df-convert {\n",
              "      background-color: #3B4455;\n",
              "      fill: #D2E3FC;\n",
              "    }\n",
              "\n",
              "    [theme=dark] .colab-df-convert:hover {\n",
              "      background-color: #434B5C;\n",
              "      box-shadow: 0px 1px 3px 1px rgba(0, 0, 0, 0.15);\n",
              "      filter: drop-shadow(0px 1px 2px rgba(0, 0, 0, 0.3));\n",
              "      fill: #FFFFFF;\n",
              "    }\n",
              "  </style>\n",
              "\n",
              "      <script>\n",
              "        const buttonEl =\n",
              "          document.querySelector('#df-97f7a0c6-21d7-4679-8e59-b8c86696514d button.colab-df-convert');\n",
              "        buttonEl.style.display =\n",
              "          google.colab.kernel.accessAllowed ? 'block' : 'none';\n",
              "\n",
              "        async function convertToInteractive(key) {\n",
              "          const element = document.querySelector('#df-97f7a0c6-21d7-4679-8e59-b8c86696514d');\n",
              "          const dataTable =\n",
              "            await google.colab.kernel.invokeFunction('convertToInteractive',\n",
              "                                                     [key], {});\n",
              "          if (!dataTable) return;\n",
              "\n",
              "          const docLinkHtml = 'Like what you see? Visit the ' +\n",
              "            '<a target=\"_blank\" href=https://colab.research.google.com/notebooks/data_table.ipynb>data table notebook</a>'\n",
              "            + ' to learn more about interactive tables.';\n",
              "          element.innerHTML = '';\n",
              "          dataTable['output_type'] = 'display_data';\n",
              "          await google.colab.output.renderOutput(dataTable, element);\n",
              "          const docLink = document.createElement('div');\n",
              "          docLink.innerHTML = docLinkHtml;\n",
              "          element.appendChild(docLink);\n",
              "        }\n",
              "      </script>\n",
              "    </div>\n",
              "  </div>\n",
              "  "
            ]
          },
          "metadata": {},
          "execution_count": 12
        }
      ],
      "source": [
        "data.describe(include=['category'])"
      ]
    },
    {
      "cell_type": "markdown",
      "metadata": {
        "id": "KjbtwgIg-WkX"
      },
      "source": [
        "Получим информацию о бинарных признаках:"
      ]
    },
    {
      "cell_type": "code",
      "execution_count": 13,
      "metadata": {
        "colab": {
          "base_uri": "https://localhost:8080/",
          "height": 175
        },
        "id": "mwjxN6d7-WkX",
        "outputId": "66e7fa13-d1b6-4a0b-aed4-b83f1f790985"
      },
      "outputs": [
        {
          "output_type": "execute_result",
          "data": {
            "text/plain": [
              "       VEHICLE_OWNERSHIP MARRIED CHILDREN OUTCOME\n",
              "count              10000   10000    10000   10000\n",
              "unique                 2       2        2       2\n",
              "top                 True   False     True   False\n",
              "freq                6970    5018     6888    6867"
            ],
            "text/html": [
              "\n",
              "  <div id=\"df-6f3e24d0-824d-4ed5-95e0-23f34b42d224\">\n",
              "    <div class=\"colab-df-container\">\n",
              "      <div>\n",
              "<style scoped>\n",
              "    .dataframe tbody tr th:only-of-type {\n",
              "        vertical-align: middle;\n",
              "    }\n",
              "\n",
              "    .dataframe tbody tr th {\n",
              "        vertical-align: top;\n",
              "    }\n",
              "\n",
              "    .dataframe thead th {\n",
              "        text-align: right;\n",
              "    }\n",
              "</style>\n",
              "<table border=\"1\" class=\"dataframe\">\n",
              "  <thead>\n",
              "    <tr style=\"text-align: right;\">\n",
              "      <th></th>\n",
              "      <th>VEHICLE_OWNERSHIP</th>\n",
              "      <th>MARRIED</th>\n",
              "      <th>CHILDREN</th>\n",
              "      <th>OUTCOME</th>\n",
              "    </tr>\n",
              "  </thead>\n",
              "  <tbody>\n",
              "    <tr>\n",
              "      <th>count</th>\n",
              "      <td>10000</td>\n",
              "      <td>10000</td>\n",
              "      <td>10000</td>\n",
              "      <td>10000</td>\n",
              "    </tr>\n",
              "    <tr>\n",
              "      <th>unique</th>\n",
              "      <td>2</td>\n",
              "      <td>2</td>\n",
              "      <td>2</td>\n",
              "      <td>2</td>\n",
              "    </tr>\n",
              "    <tr>\n",
              "      <th>top</th>\n",
              "      <td>True</td>\n",
              "      <td>False</td>\n",
              "      <td>True</td>\n",
              "      <td>False</td>\n",
              "    </tr>\n",
              "    <tr>\n",
              "      <th>freq</th>\n",
              "      <td>6970</td>\n",
              "      <td>5018</td>\n",
              "      <td>6888</td>\n",
              "      <td>6867</td>\n",
              "    </tr>\n",
              "  </tbody>\n",
              "</table>\n",
              "</div>\n",
              "      <button class=\"colab-df-convert\" onclick=\"convertToInteractive('df-6f3e24d0-824d-4ed5-95e0-23f34b42d224')\"\n",
              "              title=\"Convert this dataframe to an interactive table.\"\n",
              "              style=\"display:none;\">\n",
              "        \n",
              "  <svg xmlns=\"http://www.w3.org/2000/svg\" height=\"24px\"viewBox=\"0 0 24 24\"\n",
              "       width=\"24px\">\n",
              "    <path d=\"M0 0h24v24H0V0z\" fill=\"none\"/>\n",
              "    <path d=\"M18.56 5.44l.94 2.06.94-2.06 2.06-.94-2.06-.94-.94-2.06-.94 2.06-2.06.94zm-11 1L8.5 8.5l.94-2.06 2.06-.94-2.06-.94L8.5 2.5l-.94 2.06-2.06.94zm10 10l.94 2.06.94-2.06 2.06-.94-2.06-.94-.94-2.06-.94 2.06-2.06.94z\"/><path d=\"M17.41 7.96l-1.37-1.37c-.4-.4-.92-.59-1.43-.59-.52 0-1.04.2-1.43.59L10.3 9.45l-7.72 7.72c-.78.78-.78 2.05 0 2.83L4 21.41c.39.39.9.59 1.41.59.51 0 1.02-.2 1.41-.59l7.78-7.78 2.81-2.81c.8-.78.8-2.07 0-2.86zM5.41 20L4 18.59l7.72-7.72 1.47 1.35L5.41 20z\"/>\n",
              "  </svg>\n",
              "      </button>\n",
              "      \n",
              "  <style>\n",
              "    .colab-df-container {\n",
              "      display:flex;\n",
              "      flex-wrap:wrap;\n",
              "      gap: 12px;\n",
              "    }\n",
              "\n",
              "    .colab-df-convert {\n",
              "      background-color: #E8F0FE;\n",
              "      border: none;\n",
              "      border-radius: 50%;\n",
              "      cursor: pointer;\n",
              "      display: none;\n",
              "      fill: #1967D2;\n",
              "      height: 32px;\n",
              "      padding: 0 0 0 0;\n",
              "      width: 32px;\n",
              "    }\n",
              "\n",
              "    .colab-df-convert:hover {\n",
              "      background-color: #E2EBFA;\n",
              "      box-shadow: 0px 1px 2px rgba(60, 64, 67, 0.3), 0px 1px 3px 1px rgba(60, 64, 67, 0.15);\n",
              "      fill: #174EA6;\n",
              "    }\n",
              "\n",
              "    [theme=dark] .colab-df-convert {\n",
              "      background-color: #3B4455;\n",
              "      fill: #D2E3FC;\n",
              "    }\n",
              "\n",
              "    [theme=dark] .colab-df-convert:hover {\n",
              "      background-color: #434B5C;\n",
              "      box-shadow: 0px 1px 3px 1px rgba(0, 0, 0, 0.15);\n",
              "      filter: drop-shadow(0px 1px 2px rgba(0, 0, 0, 0.3));\n",
              "      fill: #FFFFFF;\n",
              "    }\n",
              "  </style>\n",
              "\n",
              "      <script>\n",
              "        const buttonEl =\n",
              "          document.querySelector('#df-6f3e24d0-824d-4ed5-95e0-23f34b42d224 button.colab-df-convert');\n",
              "        buttonEl.style.display =\n",
              "          google.colab.kernel.accessAllowed ? 'block' : 'none';\n",
              "\n",
              "        async function convertToInteractive(key) {\n",
              "          const element = document.querySelector('#df-6f3e24d0-824d-4ed5-95e0-23f34b42d224');\n",
              "          const dataTable =\n",
              "            await google.colab.kernel.invokeFunction('convertToInteractive',\n",
              "                                                     [key], {});\n",
              "          if (!dataTable) return;\n",
              "\n",
              "          const docLinkHtml = 'Like what you see? Visit the ' +\n",
              "            '<a target=\"_blank\" href=https://colab.research.google.com/notebooks/data_table.ipynb>data table notebook</a>'\n",
              "            + ' to learn more about interactive tables.';\n",
              "          element.innerHTML = '';\n",
              "          dataTable['output_type'] = 'display_data';\n",
              "          await google.colab.output.renderOutput(dataTable, element);\n",
              "          const docLink = document.createElement('div');\n",
              "          docLink.innerHTML = docLinkHtml;\n",
              "          element.appendChild(docLink);\n",
              "        }\n",
              "      </script>\n",
              "    </div>\n",
              "  </div>\n",
              "  "
            ]
          },
          "metadata": {},
          "execution_count": 13
        }
      ],
      "source": [
        "data.describe(include=['bool'])"
      ]
    },
    {
      "cell_type": "markdown",
      "metadata": {
        "id": "M7_uxw4q-WkX"
      },
      "source": [
        "Выведем некоторые пары признаков для визуализации их связи:"
      ]
    },
    {
      "cell_type": "code",
      "execution_count": 14,
      "metadata": {
        "colab": {
          "base_uri": "https://localhost:8080/",
          "height": 268
        },
        "id": "x_jaQSaV-WkX",
        "outputId": "39a6f64f-2677-42c3-b38c-ab7c9e58be70"
      },
      "outputs": [
        {
          "output_type": "display_data",
          "data": {
            "text/plain": [
              "<Figure size 432x288 with 1 Axes>"
            ],
            "image/png": "[encoded data removed]"
          },
          "metadata": {
            "needs_background": "light"
          }
        }
      ],
      "source": [
        "plt.scatter(data['INCOME'], data['CREDIT_SCORE'], alpha=0.01, color = 'pink')\n",
        "pass"
      ]
    },
    {
      "cell_type": "markdown",
      "metadata": {
        "id": "nWiRxe3C-WkX"
      },
      "source": [
        "Данная диаграмма рассеивания показывает, что на кредитный рейтинг клиента страховой компании напрямую влияет его доход. Мы имеем не так много признаков, которые имеют большой набор различных значений, поэтому в нашем случае диаграмма рассеивания не лучший вариант визуализации данных."
      ]
    },
    {
      "cell_type": "code",
      "execution_count": 15,
      "metadata": {
        "colab": {
          "base_uri": "https://localhost:8080/",
          "height": 497
        },
        "id": "2cYj45HF-WkX",
        "outputId": "b2f9168e-3a14-418c-ce0c-866680aece27"
      },
      "outputs": [
        {
          "output_type": "display_data",
          "data": {
            "text/plain": [
              "<Figure size 720x576 with 1 Axes>"
            ],
            "image/png": "[encoded data removed]"
          },
          "metadata": {
            "needs_background": "light"
          }
        }
      ],
      "source": [
        "random_subset = np.random.choice(np.arange(data.shape[0]), size=1000, replace=False)\n",
        "plt.figure(figsize = (10, 8))\n",
        "sns.scatterplot(x='INCOME', y='CREDIT_SCORE', hue='EDUCATION', data=data.iloc[random_subset], alpha=0.7)\n",
        "pass"
      ]
    },
    {
      "cell_type": "markdown",
      "metadata": {
        "id": "v7JQkjU8-WkX"
      },
      "source": [
        "Это аналогичная предыдущей диаграмма рассеивания, отличие только в том, что она имеет дополнительную информацию о уровне образования клиентов.\n",
        "\n",
        "Следующая гистограмма показывает распределений значений кредитного рейтинга водителей."
      ]
    },
    {
      "cell_type": "code",
      "execution_count": 16,
      "metadata": {
        "colab": {
          "base_uri": "https://localhost:8080/",
          "height": 336
        },
        "id": "DkG7EY9u-WkY",
        "outputId": "70e359f9-0f14-44f3-b8e1-b00037769805"
      },
      "outputs": [
        {
          "output_type": "stream",
          "name": "stderr",
          "text": [
            "/usr/local/lib/python3.8/dist-packages/seaborn/distributions.py:2619: FutureWarning: `distplot` is a deprecated function and will be removed in a future version. Please adapt your code to use either `displot` (a figure-level function with similar flexibility) or `histplot` (an axes-level function for histograms).\n",
            "  warnings.warn(msg, FutureWarning)\n"
          ]
        },
        {
          "output_type": "display_data",
          "data": {
            "text/plain": [
              "<Figure size 432x288 with 1 Axes>"
            ],
            "image/png": "[encoded data removed]"
          },
          "metadata": {
            "needs_background": "light"
          }
        }
      ],
      "source": [
        "sns.distplot(data['CREDIT_SCORE'], bins=100)\n",
        "plt.grid()\n",
        "pass"
      ]
    },
    {
      "cell_type": "markdown",
      "metadata": {
        "id": "DH1O-Ddm-WkY"
      },
      "source": [
        "Данная гистограмма показывает распределений количества штрафов водителей."
      ]
    },
    {
      "cell_type": "code",
      "execution_count": 17,
      "metadata": {
        "colab": {
          "base_uri": "https://localhost:8080/",
          "height": 336
        },
        "id": "1fGd25Mb-WkY",
        "outputId": "9f96bda4-8e02-48b2-c7cc-dd4e5dc0f4e2"
      },
      "outputs": [
        {
          "output_type": "stream",
          "name": "stderr",
          "text": [
            "/usr/local/lib/python3.8/dist-packages/seaborn/distributions.py:2619: FutureWarning: `distplot` is a deprecated function and will be removed in a future version. Please adapt your code to use either `displot` (a figure-level function with similar flexibility) or `histplot` (an axes-level function for histograms).\n",
            "  warnings.warn(msg, FutureWarning)\n"
          ]
        },
        {
          "output_type": "display_data",
          "data": {
            "text/plain": [
              "<Figure size 432x288 with 1 Axes>"
            ],
            "image/png": "[encoded data removed]"
          },
          "metadata": {
            "needs_background": "light"
          }
        }
      ],
      "source": [
        "sns.distplot(data['SPEEDING_VIOLATIONS'], bins=10, color = 'red')\n",
        "plt.grid()\n",
        "pass"
      ]
    },
    {
      "cell_type": "markdown",
      "metadata": {
        "id": "zM6jiXvY-WkY"
      },
      "source": [
        "Рассмотрим возрастные категории клиентов"
      ]
    },
    {
      "cell_type": "code",
      "execution_count": 18,
      "metadata": {
        "colab": {
          "base_uri": "https://localhost:8080/",
          "height": 279
        },
        "id": "uLNzIrNz-WkY",
        "outputId": "b1610034-53b8-4465-9484-81a401cecbd1"
      },
      "outputs": [
        {
          "output_type": "display_data",
          "data": {
            "text/plain": [
              "<Figure size 432x288 with 1 Axes>"
            ],
            "image/png": "[encoded data removed]"
          },
          "metadata": {
            "needs_background": "light"
          }
        }
      ],
      "source": [
        "sns.countplot(x='AGE', data=data)\n",
        "pass"
      ]
    },
    {
      "cell_type": "markdown",
      "metadata": {
        "id": "TpqGlN0U-WkY"
      },
      "source": [
        "Посмотрим, какой тип автомобиля преобладает у клиентов"
      ]
    },
    {
      "cell_type": "code",
      "execution_count": 19,
      "metadata": {
        "colab": {
          "base_uri": "https://localhost:8080/",
          "height": 280
        },
        "id": "mDN5u7dE-WkY",
        "outputId": "e2d6cf12-4f44-4140-c77c-ea84bd16d008"
      },
      "outputs": [
        {
          "output_type": "display_data",
          "data": {
            "text/plain": [
              "<Figure size 432x288 with 1 Axes>"
            ],
            "image/png": "[encoded data removed]"
          },
          "metadata": {
            "needs_background": "light"
          }
        }
      ],
      "source": [
        "sns.countplot(x='VEHICLE_TYPE', data=data)\n",
        "pass"
      ]
    },
    {
      "cell_type": "markdown",
      "metadata": {
        "id": "BWt6k3Oz-WkY"
      },
      "source": [
        "**Ящик с усами**\n",
        "\n",
        "Помогает проанализировать значения годового пробега автомобилей водителей различных возрастных категорий. Он отображает значения квартильные значения признака ANNUAL_MILEAGE, медианные значения, а также диапазоны значений для разных категорий."
      ]
    },
    {
      "cell_type": "code",
      "execution_count": 20,
      "metadata": {
        "colab": {
          "base_uri": "https://localhost:8080/",
          "height": 279
        },
        "id": "8IhdNOhS-WkY",
        "outputId": "0bc2863a-a015-4d5c-cf29-b167c88669f3"
      },
      "outputs": [
        {
          "output_type": "display_data",
          "data": {
            "text/plain": [
              "<Figure size 432x288 with 1 Axes>"
            ],
            "image/png": "[encoded data removed]"
          },
          "metadata": {
            "needs_background": "light"
          }
        }
      ],
      "source": [
        "sns.boxplot(x='AGE', y='ANNUAL_MILEAGE', data=data)\n",
        "pass"
      ]
    },
    {
      "cell_type": "markdown",
      "metadata": {
        "id": "pVl9jml7-WkY"
      },
      "source": [
        "**Скрипичный график**\n",
        "\n",
        "Скрипичные графики отображают графики аппроксимации плотности вероятности для тех же величин."
      ]
    },
    {
      "cell_type": "code",
      "execution_count": 21,
      "metadata": {
        "colab": {
          "base_uri": "https://localhost:8080/",
          "height": 279
        },
        "id": "fDWGqW1u-WkY",
        "outputId": "79a3cfd6-ee1a-4788-d96a-99670a1c0e12"
      },
      "outputs": [
        {
          "output_type": "display_data",
          "data": {
            "text/plain": [
              "<Figure size 432x288 with 1 Axes>"
            ],
            "image/png": "[encoded data removed]"
          },
          "metadata": {
            "needs_background": "light"
          }
        }
      ],
      "source": [
        "sns.violinplot(x='AGE', y='ANNUAL_MILEAGE', data=data)\n",
        "pass"
      ]
    },
    {
      "cell_type": "markdown",
      "metadata": {
        "id": "_QF6zWO3-WkZ"
      },
      "source": [
        "**Корреляционная матрица**\n",
        "\n",
        "Построим матрицу корреляции:"
      ]
    },
    {
      "cell_type": "code",
      "execution_count": 22,
      "metadata": {
        "colab": {
          "base_uri": "https://localhost:8080/",
          "height": 394
        },
        "id": "6ABJmpGe-WkZ",
        "outputId": "a734f731-20fd-41bd-dfd4-1f79ffb9ca94"
      },
      "outputs": [
        {
          "output_type": "execute_result",
          "data": {
            "text/plain": [
              "                           ID  CREDIT_SCORE  VEHICLE_OWNERSHIP   MARRIED  \\\n",
              "ID                   1.000000      0.001704           0.009197  0.014826   \n",
              "CREDIT_SCORE         0.001704      1.000000           0.312037  0.281238   \n",
              "VEHICLE_OWNERSHIP    0.009197      0.312037           1.000000  0.175626   \n",
              "MARRIED              0.014826      0.281238           0.175626  1.000000   \n",
              "CHILDREN             0.001233      0.220658           0.125990  0.287009   \n",
              "POSTAL_CODE          0.006038      0.009040          -0.004866  0.012045   \n",
              "ANNUAL_MILEAGE      -0.002217     -0.174453          -0.097433 -0.462193   \n",
              "SPEEDING_VIOLATIONS  0.008156      0.204542           0.133868  0.218855   \n",
              "DUIS                 0.009268      0.127366           0.086567  0.120840   \n",
              "PAST_ACCIDENTS       0.001831      0.180978           0.119521  0.215269   \n",
              "OUTCOME             -0.010506     -0.325286          -0.378921 -0.262104   \n",
              "\n",
              "                     CHILDREN  POSTAL_CODE  ANNUAL_MILEAGE  \\\n",
              "ID                   0.001233     0.006038       -0.002217   \n",
              "CREDIT_SCORE         0.220658     0.009040       -0.174453   \n",
              "VEHICLE_OWNERSHIP    0.125990    -0.004866       -0.097433   \n",
              "MARRIED              0.287009     0.012045       -0.462193   \n",
              "CHILDREN             1.000000     0.020911       -0.447655   \n",
              "POSTAL_CODE          0.020911     1.000000       -0.133978   \n",
              "ANNUAL_MILEAGE      -0.447655    -0.133978        1.000000   \n",
              "SPEEDING_VIOLATIONS  0.220415     0.113686       -0.323547   \n",
              "DUIS                 0.115354     0.038492       -0.116598   \n",
              "PAST_ACCIDENTS       0.206295    -0.116985       -0.195217   \n",
              "OUTCOME             -0.232835     0.095889        0.187154   \n",
              "\n",
              "                     SPEEDING_VIOLATIONS      DUIS  PAST_ACCIDENTS   OUTCOME  \n",
              "ID                              0.008156  0.009268        0.001831 -0.010506  \n",
              "CREDIT_SCORE                    0.204542  0.127366        0.180978 -0.325286  \n",
              "VEHICLE_OWNERSHIP               0.133868  0.086567        0.119521 -0.378921  \n",
              "MARRIED                         0.218855  0.120840        0.215269 -0.262104  \n",
              "CHILDREN                        0.220415  0.115354        0.206295 -0.232835  \n",
              "POSTAL_CODE                     0.113686  0.038492       -0.116985  0.095889  \n",
              "ANNUAL_MILEAGE                 -0.323547 -0.116598       -0.195217  0.187154  \n",
              "SPEEDING_VIOLATIONS             1.000000  0.359838        0.443074 -0.291862  \n",
              "DUIS                            0.359838  1.000000        0.259359 -0.189352  \n",
              "PAST_ACCIDENTS                  0.443074  0.259359        1.000000 -0.311495  \n",
              "OUTCOME                        -0.291862 -0.189352       -0.311495  1.000000  "
            ],
            "text/html": [
              "\n",
              "  <div id=\"df-9aca6089-0bf5-40f4-9426-7f947f58ff9a\">\n",
              "    <div class=\"colab-df-container\">\n",
              "      <div>\n",
              "<style scoped>\n",
              "    .dataframe tbody tr th:only-of-type {\n",
              "        vertical-align: middle;\n",
              "    }\n",
              "\n",
              "    .dataframe tbody tr th {\n",
              "        vertical-align: top;\n",
              "    }\n",
              "\n",
              "    .dataframe thead th {\n",
              "        text-align: right;\n",
              "    }\n",
              "</style>\n",
              "<table border=\"1\" class=\"dataframe\">\n",
              "  <thead>\n",
              "    <tr style=\"text-align: right;\">\n",
              "      <th></th>\n",
              "      <th>ID</th>\n",
              "      <th>CREDIT_SCORE</th>\n",
              "      <th>VEHICLE_OWNERSHIP</th>\n",
              "      <th>MARRIED</th>\n",
              "      <th>CHILDREN</th>\n",
              "      <th>POSTAL_CODE</th>\n",
              "      <th>ANNUAL_MILEAGE</th>\n",
              "      <th>SPEEDING_VIOLATIONS</th>\n",
              "      <th>DUIS</th>\n",
              "      <th>PAST_ACCIDENTS</th>\n",
              "      <th>OUTCOME</th>\n",
              "    </tr>\n",
              "  </thead>\n",
              "  <tbody>\n",
              "    <tr>\n",
              "      <th>ID</th>\n",
              "      <td>1.000000</td>\n",
              "      <td>0.001704</td>\n",
              "      <td>0.009197</td>\n",
              "      <td>0.014826</td>\n",
              "      <td>0.001233</td>\n",
              "      <td>0.006038</td>\n",
              "      <td>-0.002217</td>\n",
              "      <td>0.008156</td>\n",
              "      <td>0.009268</td>\n",
              "      <td>0.001831</td>\n",
              "      <td>-0.010506</td>\n",
              "    </tr>\n",
              "    <tr>\n",
              "      <th>CREDIT_SCORE</th>\n",
              "      <td>0.001704</td>\n",
              "      <td>1.000000</td>\n",
              "      <td>0.312037</td>\n",
              "      <td>0.281238</td>\n",
              "      <td>0.220658</td>\n",
              "      <td>0.009040</td>\n",
              "      <td>-0.174453</td>\n",
              "      <td>0.204542</td>\n",
              "      <td>0.127366</td>\n",
              "      <td>0.180978</td>\n",
              "      <td>-0.325286</td>\n",
              "    </tr>\n",
              "    <tr>\n",
              "      <th>VEHICLE_OWNERSHIP</th>\n",
              "      <td>0.009197</td>\n",
              "      <td>0.312037</td>\n",
              "      <td>1.000000</td>\n",
              "      <td>0.175626</td>\n",
              "      <td>0.125990</td>\n",
              "      <td>-0.004866</td>\n",
              "      <td>-0.097433</td>\n",
              "      <td>0.133868</td>\n",
              "      <td>0.086567</td>\n",
              "      <td>0.119521</td>\n",
              "      <td>-0.378921</td>\n",
              "    </tr>\n",
              "    <tr>\n",
              "      <th>MARRIED</th>\n",
              "      <td>0.014826</td>\n",
              "      <td>0.281238</td>\n",
              "      <td>0.175626</td>\n",
              "      <td>1.000000</td>\n",
              "      <td>0.287009</td>\n",
              "      <td>0.012045</td>\n",
              "      <td>-0.462193</td>\n",
              "      <td>0.218855</td>\n",
              "      <td>0.120840</td>\n",
              "      <td>0.215269</td>\n",
              "      <td>-0.262104</td>\n",
              "    </tr>\n",
              "    <tr>\n",
              "      <th>CHILDREN</th>\n",
              "      <td>0.001233</td>\n",
              "      <td>0.220658</td>\n",
              "      <td>0.125990</td>\n",
              "      <td>0.287009</td>\n",
              "      <td>1.000000</td>\n",
              "      <td>0.020911</td>\n",
              "      <td>-0.447655</td>\n",
              "      <td>0.220415</td>\n",
              "      <td>0.115354</td>\n",
              "      <td>0.206295</td>\n",
              "      <td>-0.232835</td>\n",
              "    </tr>\n",
              "    <tr>\n",
              "      <th>POSTAL_CODE</th>\n",
              "      <td>0.006038</td>\n",
              "      <td>0.009040</td>\n",
              "      <td>-0.004866</td>\n",
              "      <td>0.012045</td>\n",
              "      <td>0.020911</td>\n",
              "      <td>1.000000</td>\n",
              "      <td>-0.133978</td>\n",
              "      <td>0.113686</td>\n",
              "      <td>0.038492</td>\n",
              "      <td>-0.116985</td>\n",
              "      <td>0.095889</td>\n",
              "    </tr>\n",
              "    <tr>\n",
              "      <th>ANNUAL_MILEAGE</th>\n",
              "      <td>-0.002217</td>\n",
              "      <td>-0.174453</td>\n",
              "      <td>-0.097433</td>\n",
              "      <td>-0.462193</td>\n",
              "      <td>-0.447655</td>\n",
              "      <td>-0.133978</td>\n",
              "      <td>1.000000</td>\n",
              "      <td>-0.323547</td>\n",
              "      <td>-0.116598</td>\n",
              "      <td>-0.195217</td>\n",
              "      <td>0.187154</td>\n",
              "    </tr>\n",
              "    <tr>\n",
              "      <th>SPEEDING_VIOLATIONS</th>\n",
              "      <td>0.008156</td>\n",
              "      <td>0.204542</td>\n",
              "      <td>0.133868</td>\n",
              "      <td>0.218855</td>\n",
              "      <td>0.220415</td>\n",
              "      <td>0.113686</td>\n",
              "      <td>-0.323547</td>\n",
              "      <td>1.000000</td>\n",
              "      <td>0.359838</td>\n",
              "      <td>0.443074</td>\n",
              "      <td>-0.291862</td>\n",
              "    </tr>\n",
              "    <tr>\n",
              "      <th>DUIS</th>\n",
              "      <td>0.009268</td>\n",
              "      <td>0.127366</td>\n",
              "      <td>0.086567</td>\n",
              "      <td>0.120840</td>\n",
              "      <td>0.115354</td>\n",
              "      <td>0.038492</td>\n",
              "      <td>-0.116598</td>\n",
              "      <td>0.359838</td>\n",
              "      <td>1.000000</td>\n",
              "      <td>0.259359</td>\n",
              "      <td>-0.189352</td>\n",
              "    </tr>\n",
              "    <tr>\n",
              "      <th>PAST_ACCIDENTS</th>\n",
              "      <td>0.001831</td>\n",
              "      <td>0.180978</td>\n",
              "      <td>0.119521</td>\n",
              "      <td>0.215269</td>\n",
              "      <td>0.206295</td>\n",
              "      <td>-0.116985</td>\n",
              "      <td>-0.195217</td>\n",
              "      <td>0.443074</td>\n",
              "      <td>0.259359</td>\n",
              "      <td>1.000000</td>\n",
              "      <td>-0.311495</td>\n",
              "    </tr>\n",
              "    <tr>\n",
              "      <th>OUTCOME</th>\n",
              "      <td>-0.010506</td>\n",
              "      <td>-0.325286</td>\n",
              "      <td>-0.378921</td>\n",
              "      <td>-0.262104</td>\n",
              "      <td>-0.232835</td>\n",
              "      <td>0.095889</td>\n",
              "      <td>0.187154</td>\n",
              "      <td>-0.291862</td>\n",
              "      <td>-0.189352</td>\n",
              "      <td>-0.311495</td>\n",
              "      <td>1.000000</td>\n",
              "    </tr>\n",
              "  </tbody>\n",
              "</table>\n",
              "</div>\n",
              "      <button class=\"colab-df-convert\" onclick=\"convertToInteractive('df-9aca6089-0bf5-40f4-9426-7f947f58ff9a')\"\n",
              "              title=\"Convert this dataframe to an interactive table.\"\n",
              "              style=\"display:none;\">\n",
              "        \n",
              "  <svg xmlns=\"http://www.w3.org/2000/svg\" height=\"24px\"viewBox=\"0 0 24 24\"\n",
              "       width=\"24px\">\n",
              "    <path d=\"M0 0h24v24H0V0z\" fill=\"none\"/>\n",
              "    <path d=\"M18.56 5.44l.94 2.06.94-2.06 2.06-.94-2.06-.94-.94-2.06-.94 2.06-2.06.94zm-11 1L8.5 8.5l.94-2.06 2.06-.94-2.06-.94L8.5 2.5l-.94 2.06-2.06.94zm10 10l.94 2.06.94-2.06 2.06-.94-2.06-.94-.94-2.06-.94 2.06-2.06.94z\"/><path d=\"M17.41 7.96l-1.37-1.37c-.4-.4-.92-.59-1.43-.59-.52 0-1.04.2-1.43.59L10.3 9.45l-7.72 7.72c-.78.78-.78 2.05 0 2.83L4 21.41c.39.39.9.59 1.41.59.51 0 1.02-.2 1.41-.59l7.78-7.78 2.81-2.81c.8-.78.8-2.07 0-2.86zM5.41 20L4 18.59l7.72-7.72 1.47 1.35L5.41 20z\"/>\n",
              "  </svg>\n",
              "      </button>\n",
              "      \n",
              "  <style>\n",
              "    .colab-df-container {\n",
              "      display:flex;\n",
              "      flex-wrap:wrap;\n",
              "      gap: 12px;\n",
              "    }\n",
              "\n",
              "    .colab-df-convert {\n",
              "      background-color: #E8F0FE;\n",
              "      border: none;\n",
              "      border-radius: 50%;\n",
              "      cursor: pointer;\n",
              "      display: none;\n",
              "      fill: #1967D2;\n",
              "      height: 32px;\n",
              "      padding: 0 0 0 0;\n",
              "      width: 32px;\n",
              "    }\n",
              "\n",
              "    .colab-df-convert:hover {\n",
              "      background-color: #E2EBFA;\n",
              "      box-shadow: 0px 1px 2px rgba(60, 64, 67, 0.3), 0px 1px 3px 1px rgba(60, 64, 67, 0.15);\n",
              "      fill: #174EA6;\n",
              "    }\n",
              "\n",
              "    [theme=dark] .colab-df-convert {\n",
              "      background-color: #3B4455;\n",
              "      fill: #D2E3FC;\n",
              "    }\n",
              "\n",
              "    [theme=dark] .colab-df-convert:hover {\n",
              "      background-color: #434B5C;\n",
              "      box-shadow: 0px 1px 3px 1px rgba(0, 0, 0, 0.15);\n",
              "      filter: drop-shadow(0px 1px 2px rgba(0, 0, 0, 0.3));\n",
              "      fill: #FFFFFF;\n",
              "    }\n",
              "  </style>\n",
              "\n",
              "      <script>\n",
              "        const buttonEl =\n",
              "          document.querySelector('#df-9aca6089-0bf5-40f4-9426-7f947f58ff9a button.colab-df-convert');\n",
              "        buttonEl.style.display =\n",
              "          google.colab.kernel.accessAllowed ? 'block' : 'none';\n",
              "\n",
              "        async function convertToInteractive(key) {\n",
              "          const element = document.querySelector('#df-9aca6089-0bf5-40f4-9426-7f947f58ff9a');\n",
              "          const dataTable =\n",
              "            await google.colab.kernel.invokeFunction('convertToInteractive',\n",
              "                                                     [key], {});\n",
              "          if (!dataTable) return;\n",
              "\n",
              "          const docLinkHtml = 'Like what you see? Visit the ' +\n",
              "            '<a target=\"_blank\" href=https://colab.research.google.com/notebooks/data_table.ipynb>data table notebook</a>'\n",
              "            + ' to learn more about interactive tables.';\n",
              "          element.innerHTML = '';\n",
              "          dataTable['output_type'] = 'display_data';\n",
              "          await google.colab.output.renderOutput(dataTable, element);\n",
              "          const docLink = document.createElement('div');\n",
              "          docLink.innerHTML = docLinkHtml;\n",
              "          element.appendChild(docLink);\n",
              "        }\n",
              "      </script>\n",
              "    </div>\n",
              "  </div>\n",
              "  "
            ]
          },
          "metadata": {},
          "execution_count": 22
        }
      ],
      "source": [
        "corr_mat = data.corr()\n",
        "corr_mat"
      ]
    },
    {
      "cell_type": "code",
      "execution_count": 23,
      "metadata": {
        "colab": {
          "base_uri": "https://localhost:8080/",
          "height": 375
        },
        "id": "kz5g28fF-WkZ",
        "outputId": "930421e6-d32a-4ca0-f442-a926a037f7b5"
      },
      "outputs": [
        {
          "output_type": "display_data",
          "data": {
            "text/plain": [
              "<Figure size 432x288 with 2 Axes>"
            ],
            "image/png": "[encoded data removed]"
          },
          "metadata": {
            "needs_background": "light"
          }
        }
      ],
      "source": [
        "sns.heatmap(corr_mat, square=True, cmap='coolwarm')\n",
        "pass"
      ]
    },
    {
      "cell_type": "markdown",
      "metadata": {
        "id": "28bPiwMr-WkZ"
      },
      "source": [
        "Можно увидеть достаточно заметную взаимную корреляцию между превышением скорости, вождением в нетрезвом виде и числом аварий."
      ]
    },
    {
      "cell_type": "markdown",
      "metadata": {
        "id": "IZhPqWy4-WkZ"
      },
      "source": [
        "### **3. Обработка пропущенных значений**\n",
        "Найдем столбцы, в которых имеются пропущенные значения и количество таких значений:"
      ]
    },
    {
      "cell_type": "code",
      "execution_count": 24,
      "metadata": {
        "colab": {
          "base_uri": "https://localhost:8080/"
        },
        "id": "iysdmHKp-WkZ",
        "outputId": "935b2876-68de-4a2d-8070-93d2dd35e0ed"
      },
      "outputs": [
        {
          "output_type": "execute_result",
          "data": {
            "text/plain": [
              "ID                       0\n",
              "AGE                      0\n",
              "GENDER                   0\n",
              "RACE                     0\n",
              "DRIVING_EXPERIENCE       0\n",
              "EDUCATION                0\n",
              "INCOME                   0\n",
              "CREDIT_SCORE           982\n",
              "VEHICLE_OWNERSHIP        0\n",
              "VEHICLE_YEAR             0\n",
              "MARRIED                  0\n",
              "CHILDREN                 0\n",
              "POSTAL_CODE              0\n",
              "ANNUAL_MILEAGE         957\n",
              "VEHICLE_TYPE             0\n",
              "SPEEDING_VIOLATIONS      0\n",
              "DUIS                     0\n",
              "PAST_ACCIDENTS           0\n",
              "OUTCOME                  0\n",
              "dtype: int64"
            ]
          },
          "metadata": {},
          "execution_count": 24
        }
      ],
      "source": [
        "data.isna().sum()"
      ]
    },
    {
      "cell_type": "markdown",
      "metadata": {
        "id": "fOF4XGFX-WkZ"
      },
      "source": [
        "Числовые признаки \"CREDIT_SCORE\" и \"ANNUAL_MILEAGE\" имеют пропущенные значения,заполним их медианой"
      ]
    },
    {
      "cell_type": "code",
      "execution_count": 25,
      "metadata": {
        "colab": {
          "base_uri": "https://localhost:8080/"
        },
        "id": "AbT6nXra-WkZ",
        "outputId": "a71bf7a4-3066-4a3d-b1a4-543b4281a076"
      },
      "outputs": [
        {
          "output_type": "stream",
          "name": "stderr",
          "text": [
            "<ipython-input-25-663ec0539a74>:1: FutureWarning: Dropping of nuisance columns in DataFrame reductions (with 'numeric_only=None') is deprecated; in a future version this will raise TypeError.  Select only valid columns before calling the reduction.\n",
            "  data.fillna(data.median(axis = 0), axis=0 , inplace=True)\n"
          ]
        },
        {
          "output_type": "execute_result",
          "data": {
            "text/plain": [
              "ID                     0\n",
              "AGE                    0\n",
              "GENDER                 0\n",
              "RACE                   0\n",
              "DRIVING_EXPERIENCE     0\n",
              "EDUCATION              0\n",
              "INCOME                 0\n",
              "CREDIT_SCORE           0\n",
              "VEHICLE_OWNERSHIP      0\n",
              "VEHICLE_YEAR           0\n",
              "MARRIED                0\n",
              "CHILDREN               0\n",
              "POSTAL_CODE            0\n",
              "ANNUAL_MILEAGE         0\n",
              "VEHICLE_TYPE           0\n",
              "SPEEDING_VIOLATIONS    0\n",
              "DUIS                   0\n",
              "PAST_ACCIDENTS         0\n",
              "OUTCOME                0\n",
              "dtype: int64"
            ]
          },
          "metadata": {},
          "execution_count": 25
        }
      ],
      "source": [
        "data.fillna(data.median(axis = 0), axis=0 , inplace=True)\n",
        "data.isna().sum()"
      ]
    },
    {
      "cell_type": "markdown",
      "metadata": {
        "id": "aRgV-M37-WkZ"
      },
      "source": [
        "Видно, что пропущенных значений не осталось"
      ]
    },
    {
      "cell_type": "code",
      "execution_count": 26,
      "metadata": {
        "colab": {
          "base_uri": "https://localhost:8080/",
          "height": 300
        },
        "id": "d_msnEeB-WkZ",
        "outputId": "df3c1054-81d7-4f0f-81de-ac2624713f1d"
      },
      "outputs": [
        {
          "output_type": "execute_result",
          "data": {
            "text/plain": [
              "                  ID  CREDIT_SCORE   POSTAL_CODE  ANNUAL_MILEAGE  \\\n",
              "count   10000.000000  10000.000000  10000.000000    10000.000000   \n",
              "mean   500521.906800      0.516718  19864.548400    11726.000000   \n",
              "std    290030.768758      0.130781  18915.613855     2681.649329   \n",
              "min       101.000000      0.053358  10238.000000     2000.000000   \n",
              "25%    249638.500000      0.431509  10238.000000    10000.000000   \n",
              "50%    501777.000000      0.525033  10238.000000    12000.000000   \n",
              "75%    753974.500000      0.607607  32765.000000    13000.000000   \n",
              "max    999976.000000      0.960819  92101.000000    22000.000000   \n",
              "\n",
              "       SPEEDING_VIOLATIONS         DUIS  PAST_ACCIDENTS  \n",
              "count         10000.000000  10000.00000    10000.000000  \n",
              "mean              1.482900      0.23920        1.056300  \n",
              "std               2.241966      0.55499        1.652454  \n",
              "min               0.000000      0.00000        0.000000  \n",
              "25%               0.000000      0.00000        0.000000  \n",
              "50%               0.000000      0.00000        0.000000  \n",
              "75%               2.000000      0.00000        2.000000  \n",
              "max              22.000000      6.00000       15.000000  "
            ],
            "text/html": [
              "\n",
              "  <div id=\"df-113732f7-6126-4b60-8d07-50fc44a2c71b\">\n",
              "    <div class=\"colab-df-container\">\n",
              "      <div>\n",
              "<style scoped>\n",
              "    .dataframe tbody tr th:only-of-type {\n",
              "        vertical-align: middle;\n",
              "    }\n",
              "\n",
              "    .dataframe tbody tr th {\n",
              "        vertical-align: top;\n",
              "    }\n",
              "\n",
              "    .dataframe thead th {\n",
              "        text-align: right;\n",
              "    }\n",
              "</style>\n",
              "<table border=\"1\" class=\"dataframe\">\n",
              "  <thead>\n",
              "    <tr style=\"text-align: right;\">\n",
              "      <th></th>\n",
              "      <th>ID</th>\n",
              "      <th>CREDIT_SCORE</th>\n",
              "      <th>POSTAL_CODE</th>\n",
              "      <th>ANNUAL_MILEAGE</th>\n",
              "      <th>SPEEDING_VIOLATIONS</th>\n",
              "      <th>DUIS</th>\n",
              "      <th>PAST_ACCIDENTS</th>\n",
              "    </tr>\n",
              "  </thead>\n",
              "  <tbody>\n",
              "    <tr>\n",
              "      <th>count</th>\n",
              "      <td>10000.000000</td>\n",
              "      <td>10000.000000</td>\n",
              "      <td>10000.000000</td>\n",
              "      <td>10000.000000</td>\n",
              "      <td>10000.000000</td>\n",
              "      <td>10000.00000</td>\n",
              "      <td>10000.000000</td>\n",
              "    </tr>\n",
              "    <tr>\n",
              "      <th>mean</th>\n",
              "      <td>500521.906800</td>\n",
              "      <td>0.516718</td>\n",
              "      <td>19864.548400</td>\n",
              "      <td>11726.000000</td>\n",
              "      <td>1.482900</td>\n",
              "      <td>0.23920</td>\n",
              "      <td>1.056300</td>\n",
              "    </tr>\n",
              "    <tr>\n",
              "      <th>std</th>\n",
              "      <td>290030.768758</td>\n",
              "      <td>0.130781</td>\n",
              "      <td>18915.613855</td>\n",
              "      <td>2681.649329</td>\n",
              "      <td>2.241966</td>\n",
              "      <td>0.55499</td>\n",
              "      <td>1.652454</td>\n",
              "    </tr>\n",
              "    <tr>\n",
              "      <th>min</th>\n",
              "      <td>101.000000</td>\n",
              "      <td>0.053358</td>\n",
              "      <td>10238.000000</td>\n",
              "      <td>2000.000000</td>\n",
              "      <td>0.000000</td>\n",
              "      <td>0.00000</td>\n",
              "      <td>0.000000</td>\n",
              "    </tr>\n",
              "    <tr>\n",
              "      <th>25%</th>\n",
              "      <td>249638.500000</td>\n",
              "      <td>0.431509</td>\n",
              "      <td>10238.000000</td>\n",
              "      <td>10000.000000</td>\n",
              "      <td>0.000000</td>\n",
              "      <td>0.00000</td>\n",
              "      <td>0.000000</td>\n",
              "    </tr>\n",
              "    <tr>\n",
              "      <th>50%</th>\n",
              "      <td>501777.000000</td>\n",
              "      <td>0.525033</td>\n",
              "      <td>10238.000000</td>\n",
              "      <td>12000.000000</td>\n",
              "      <td>0.000000</td>\n",
              "      <td>0.00000</td>\n",
              "      <td>0.000000</td>\n",
              "    </tr>\n",
              "    <tr>\n",
              "      <th>75%</th>\n",
              "      <td>753974.500000</td>\n",
              "      <td>0.607607</td>\n",
              "      <td>32765.000000</td>\n",
              "      <td>13000.000000</td>\n",
              "      <td>2.000000</td>\n",
              "      <td>0.00000</td>\n",
              "      <td>2.000000</td>\n",
              "    </tr>\n",
              "    <tr>\n",
              "      <th>max</th>\n",
              "      <td>999976.000000</td>\n",
              "      <td>0.960819</td>\n",
              "      <td>92101.000000</td>\n",
              "      <td>22000.000000</td>\n",
              "      <td>22.000000</td>\n",
              "      <td>6.00000</td>\n",
              "      <td>15.000000</td>\n",
              "    </tr>\n",
              "  </tbody>\n",
              "</table>\n",
              "</div>\n",
              "      <button class=\"colab-df-convert\" onclick=\"convertToInteractive('df-113732f7-6126-4b60-8d07-50fc44a2c71b')\"\n",
              "              title=\"Convert this dataframe to an interactive table.\"\n",
              "              style=\"display:none;\">\n",
              "        \n",
              "  <svg xmlns=\"http://www.w3.org/2000/svg\" height=\"24px\"viewBox=\"0 0 24 24\"\n",
              "       width=\"24px\">\n",
              "    <path d=\"M0 0h24v24H0V0z\" fill=\"none\"/>\n",
              "    <path d=\"M18.56 5.44l.94 2.06.94-2.06 2.06-.94-2.06-.94-.94-2.06-.94 2.06-2.06.94zm-11 1L8.5 8.5l.94-2.06 2.06-.94-2.06-.94L8.5 2.5l-.94 2.06-2.06.94zm10 10l.94 2.06.94-2.06 2.06-.94-2.06-.94-.94-2.06-.94 2.06-2.06.94z\"/><path d=\"M17.41 7.96l-1.37-1.37c-.4-.4-.92-.59-1.43-.59-.52 0-1.04.2-1.43.59L10.3 9.45l-7.72 7.72c-.78.78-.78 2.05 0 2.83L4 21.41c.39.39.9.59 1.41.59.51 0 1.02-.2 1.41-.59l7.78-7.78 2.81-2.81c.8-.78.8-2.07 0-2.86zM5.41 20L4 18.59l7.72-7.72 1.47 1.35L5.41 20z\"/>\n",
              "  </svg>\n",
              "      </button>\n",
              "      \n",
              "  <style>\n",
              "    .colab-df-container {\n",
              "      display:flex;\n",
              "      flex-wrap:wrap;\n",
              "      gap: 12px;\n",
              "    }\n",
              "\n",
              "    .colab-df-convert {\n",
              "      background-color: #E8F0FE;\n",
              "      border: none;\n",
              "      border-radius: 50%;\n",
              "      cursor: pointer;\n",
              "      display: none;\n",
              "      fill: #1967D2;\n",
              "      height: 32px;\n",
              "      padding: 0 0 0 0;\n",
              "      width: 32px;\n",
              "    }\n",
              "\n",
              "    .colab-df-convert:hover {\n",
              "      background-color: #E2EBFA;\n",
              "      box-shadow: 0px 1px 2px rgba(60, 64, 67, 0.3), 0px 1px 3px 1px rgba(60, 64, 67, 0.15);\n",
              "      fill: #174EA6;\n",
              "    }\n",
              "\n",
              "    [theme=dark] .colab-df-convert {\n",
              "      background-color: #3B4455;\n",
              "      fill: #D2E3FC;\n",
              "    }\n",
              "\n",
              "    [theme=dark] .colab-df-convert:hover {\n",
              "      background-color: #434B5C;\n",
              "      box-shadow: 0px 1px 3px 1px rgba(0, 0, 0, 0.15);\n",
              "      filter: drop-shadow(0px 1px 2px rgba(0, 0, 0, 0.3));\n",
              "      fill: #FFFFFF;\n",
              "    }\n",
              "  </style>\n",
              "\n",
              "      <script>\n",
              "        const buttonEl =\n",
              "          document.querySelector('#df-113732f7-6126-4b60-8d07-50fc44a2c71b button.colab-df-convert');\n",
              "        buttonEl.style.display =\n",
              "          google.colab.kernel.accessAllowed ? 'block' : 'none';\n",
              "\n",
              "        async function convertToInteractive(key) {\n",
              "          const element = document.querySelector('#df-113732f7-6126-4b60-8d07-50fc44a2c71b');\n",
              "          const dataTable =\n",
              "            await google.colab.kernel.invokeFunction('convertToInteractive',\n",
              "                                                     [key], {});\n",
              "          if (!dataTable) return;\n",
              "\n",
              "          const docLinkHtml = 'Like what you see? Visit the ' +\n",
              "            '<a target=\"_blank\" href=https://colab.research.google.com/notebooks/data_table.ipynb>data table notebook</a>'\n",
              "            + ' to learn more about interactive tables.';\n",
              "          element.innerHTML = '';\n",
              "          dataTable['output_type'] = 'display_data';\n",
              "          await google.colab.output.renderOutput(dataTable, element);\n",
              "          const docLink = document.createElement('div');\n",
              "          docLink.innerHTML = docLinkHtml;\n",
              "          element.appendChild(docLink);\n",
              "        }\n",
              "      </script>\n",
              "    </div>\n",
              "  </div>\n",
              "  "
            ]
          },
          "metadata": {},
          "execution_count": 26
        }
      ],
      "source": [
        "data.describe()"
      ]
    },
    {
      "cell_type": "markdown",
      "metadata": {
        "id": "F1nRPcxK-WkZ"
      },
      "source": [
        "### **4. Обработка категориальных признаков**\n",
        "\n",
        "Для последующей нормализации признаков, закодируем категориальные признаки с помощью числовых.\n",
        "\n",
        "Бинарные признаки \"GENDER\", \"RACE\", \"VEHICLE_YEAR\", \"VEHICLE_TYPE\" заменим на числовые (0 и 1)."
      ]
    },
    {
      "cell_type": "code",
      "execution_count": 27,
      "metadata": {
        "id": "sWeozbg5-WkZ"
      },
      "outputs": [],
      "source": [
        "data['GENDER'] = pd.factorize(data['GENDER'])[0]\n",
        "data['RACE'] = pd.factorize(data['RACE'])[0]\n",
        "data['VEHICLE_YEAR'] = pd.factorize(data['VEHICLE_YEAR'])[0]\n",
        "data['VEHICLE_TYPE'] = pd.factorize(data['VEHICLE_TYPE'])[0]"
      ]
    },
    {
      "cell_type": "markdown",
      "metadata": {
        "id": "UU2MBRVl-WkZ"
      },
      "source": [
        "К небинарным признакам \"AGE\", \"DRIVING_EXPERIENCE\", \"EDUCATION\", \"INCOME\" применим метод бинаризации."
      ]
    },
    {
      "cell_type": "code",
      "execution_count": 28,
      "metadata": {
        "colab": {
          "base_uri": "https://localhost:8080/",
          "height": 206
        },
        "id": "seKHE7n0-Wka",
        "outputId": "3789c1a8-bd80-4c3f-f306-a2dc866139e2"
      },
      "outputs": [
        {
          "output_type": "execute_result",
          "data": {
            "text/plain": [
              "   16-25  26-39  40-64  65+\n",
              "0      0      0      0    1\n",
              "1      1      0      0    0\n",
              "2      1      0      0    0\n",
              "3      1      0      0    0\n",
              "4      0      1      0    0"
            ],
            "text/html": [
              "\n",
              "  <div id=\"df-782bec1c-907c-4ba1-8df3-fd9d682f959f\">\n",
              "    <div class=\"colab-df-container\">\n",
              "      <div>\n",
              "<style scoped>\n",
              "    .dataframe tbody tr th:only-of-type {\n",
              "        vertical-align: middle;\n",
              "    }\n",
              "\n",
              "    .dataframe tbody tr th {\n",
              "        vertical-align: top;\n",
              "    }\n",
              "\n",
              "    .dataframe thead th {\n",
              "        text-align: right;\n",
              "    }\n",
              "</style>\n",
              "<table border=\"1\" class=\"dataframe\">\n",
              "  <thead>\n",
              "    <tr style=\"text-align: right;\">\n",
              "      <th></th>\n",
              "      <th>16-25</th>\n",
              "      <th>26-39</th>\n",
              "      <th>40-64</th>\n",
              "      <th>65+</th>\n",
              "    </tr>\n",
              "  </thead>\n",
              "  <tbody>\n",
              "    <tr>\n",
              "      <th>0</th>\n",
              "      <td>0</td>\n",
              "      <td>0</td>\n",
              "      <td>0</td>\n",
              "      <td>1</td>\n",
              "    </tr>\n",
              "    <tr>\n",
              "      <th>1</th>\n",
              "      <td>1</td>\n",
              "      <td>0</td>\n",
              "      <td>0</td>\n",
              "      <td>0</td>\n",
              "    </tr>\n",
              "    <tr>\n",
              "      <th>2</th>\n",
              "      <td>1</td>\n",
              "      <td>0</td>\n",
              "      <td>0</td>\n",
              "      <td>0</td>\n",
              "    </tr>\n",
              "    <tr>\n",
              "      <th>3</th>\n",
              "      <td>1</td>\n",
              "      <td>0</td>\n",
              "      <td>0</td>\n",
              "      <td>0</td>\n",
              "    </tr>\n",
              "    <tr>\n",
              "      <th>4</th>\n",
              "      <td>0</td>\n",
              "      <td>1</td>\n",
              "      <td>0</td>\n",
              "      <td>0</td>\n",
              "    </tr>\n",
              "  </tbody>\n",
              "</table>\n",
              "</div>\n",
              "      <button class=\"colab-df-convert\" onclick=\"convertToInteractive('df-782bec1c-907c-4ba1-8df3-fd9d682f959f')\"\n",
              "              title=\"Convert this dataframe to an interactive table.\"\n",
              "              style=\"display:none;\">\n",
              "        \n",
              "  <svg xmlns=\"http://www.w3.org/2000/svg\" height=\"24px\"viewBox=\"0 0 24 24\"\n",
              "       width=\"24px\">\n",
              "    <path d=\"M0 0h24v24H0V0z\" fill=\"none\"/>\n",
              "    <path d=\"M18.56 5.44l.94 2.06.94-2.06 2.06-.94-2.06-.94-.94-2.06-.94 2.06-2.06.94zm-11 1L8.5 8.5l.94-2.06 2.06-.94-2.06-.94L8.5 2.5l-.94 2.06-2.06.94zm10 10l.94 2.06.94-2.06 2.06-.94-2.06-.94-.94-2.06-.94 2.06-2.06.94z\"/><path d=\"M17.41 7.96l-1.37-1.37c-.4-.4-.92-.59-1.43-.59-.52 0-1.04.2-1.43.59L10.3 9.45l-7.72 7.72c-.78.78-.78 2.05 0 2.83L4 21.41c.39.39.9.59 1.41.59.51 0 1.02-.2 1.41-.59l7.78-7.78 2.81-2.81c.8-.78.8-2.07 0-2.86zM5.41 20L4 18.59l7.72-7.72 1.47 1.35L5.41 20z\"/>\n",
              "  </svg>\n",
              "      </button>\n",
              "      \n",
              "  <style>\n",
              "    .colab-df-container {\n",
              "      display:flex;\n",
              "      flex-wrap:wrap;\n",
              "      gap: 12px;\n",
              "    }\n",
              "\n",
              "    .colab-df-convert {\n",
              "      background-color: #E8F0FE;\n",
              "      border: none;\n",
              "      border-radius: 50%;\n",
              "      cursor: pointer;\n",
              "      display: none;\n",
              "      fill: #1967D2;\n",
              "      height: 32px;\n",
              "      padding: 0 0 0 0;\n",
              "      width: 32px;\n",
              "    }\n",
              "\n",
              "    .colab-df-convert:hover {\n",
              "      background-color: #E2EBFA;\n",
              "      box-shadow: 0px 1px 2px rgba(60, 64, 67, 0.3), 0px 1px 3px 1px rgba(60, 64, 67, 0.15);\n",
              "      fill: #174EA6;\n",
              "    }\n",
              "\n",
              "    [theme=dark] .colab-df-convert {\n",
              "      background-color: #3B4455;\n",
              "      fill: #D2E3FC;\n",
              "    }\n",
              "\n",
              "    [theme=dark] .colab-df-convert:hover {\n",
              "      background-color: #434B5C;\n",
              "      box-shadow: 0px 1px 3px 1px rgba(0, 0, 0, 0.15);\n",
              "      filter: drop-shadow(0px 1px 2px rgba(0, 0, 0, 0.3));\n",
              "      fill: #FFFFFF;\n",
              "    }\n",
              "  </style>\n",
              "\n",
              "      <script>\n",
              "        const buttonEl =\n",
              "          document.querySelector('#df-782bec1c-907c-4ba1-8df3-fd9d682f959f button.colab-df-convert');\n",
              "        buttonEl.style.display =\n",
              "          google.colab.kernel.accessAllowed ? 'block' : 'none';\n",
              "\n",
              "        async function convertToInteractive(key) {\n",
              "          const element = document.querySelector('#df-782bec1c-907c-4ba1-8df3-fd9d682f959f');\n",
              "          const dataTable =\n",
              "            await google.colab.kernel.invokeFunction('convertToInteractive',\n",
              "                                                     [key], {});\n",
              "          if (!dataTable) return;\n",
              "\n",
              "          const docLinkHtml = 'Like what you see? Visit the ' +\n",
              "            '<a target=\"_blank\" href=https://colab.research.google.com/notebooks/data_table.ipynb>data table notebook</a>'\n",
              "            + ' to learn more about interactive tables.';\n",
              "          element.innerHTML = '';\n",
              "          dataTable['output_type'] = 'display_data';\n",
              "          await google.colab.output.renderOutput(dataTable, element);\n",
              "          const docLink = document.createElement('div');\n",
              "          docLink.innerHTML = docLinkHtml;\n",
              "          element.appendChild(docLink);\n",
              "        }\n",
              "      </script>\n",
              "    </div>\n",
              "  </div>\n",
              "  "
            ]
          },
          "metadata": {},
          "execution_count": 28
        }
      ],
      "source": [
        "AGE_dummies = pd.get_dummies(data['AGE'])\n",
        "AGE_dummies.head()"
      ]
    },
    {
      "cell_type": "code",
      "execution_count": 29,
      "metadata": {
        "colab": {
          "base_uri": "https://localhost:8080/",
          "height": 206
        },
        "id": "_EZ01_E4-Wka",
        "outputId": "4311116b-7acf-4a4d-90d0-8707bfc21926"
      },
      "outputs": [
        {
          "output_type": "execute_result",
          "data": {
            "text/plain": [
              "   0-9y  10-19y  20-29y  30y+\n",
              "0     1       0       0     0\n",
              "1     1       0       0     0\n",
              "2     1       0       0     0\n",
              "3     1       0       0     0\n",
              "4     0       1       0     0"
            ],
            "text/html": [
              "\n",
              "  <div id=\"df-c0098f3a-2112-4213-9066-390fbcce343f\">\n",
              "    <div class=\"colab-df-container\">\n",
              "      <div>\n",
              "<style scoped>\n",
              "    .dataframe tbody tr th:only-of-type {\n",
              "        vertical-align: middle;\n",
              "    }\n",
              "\n",
              "    .dataframe tbody tr th {\n",
              "        vertical-align: top;\n",
              "    }\n",
              "\n",
              "    .dataframe thead th {\n",
              "        text-align: right;\n",
              "    }\n",
              "</style>\n",
              "<table border=\"1\" class=\"dataframe\">\n",
              "  <thead>\n",
              "    <tr style=\"text-align: right;\">\n",
              "      <th></th>\n",
              "      <th>0-9y</th>\n",
              "      <th>10-19y</th>\n",
              "      <th>20-29y</th>\n",
              "      <th>30y+</th>\n",
              "    </tr>\n",
              "  </thead>\n",
              "  <tbody>\n",
              "    <tr>\n",
              "      <th>0</th>\n",
              "      <td>1</td>\n",
              "      <td>0</td>\n",
              "      <td>0</td>\n",
              "      <td>0</td>\n",
              "    </tr>\n",
              "    <tr>\n",
              "      <th>1</th>\n",
              "      <td>1</td>\n",
              "      <td>0</td>\n",
              "      <td>0</td>\n",
              "      <td>0</td>\n",
              "    </tr>\n",
              "    <tr>\n",
              "      <th>2</th>\n",
              "      <td>1</td>\n",
              "      <td>0</td>\n",
              "      <td>0</td>\n",
              "      <td>0</td>\n",
              "    </tr>\n",
              "    <tr>\n",
              "      <th>3</th>\n",
              "      <td>1</td>\n",
              "      <td>0</td>\n",
              "      <td>0</td>\n",
              "      <td>0</td>\n",
              "    </tr>\n",
              "    <tr>\n",
              "      <th>4</th>\n",
              "      <td>0</td>\n",
              "      <td>1</td>\n",
              "      <td>0</td>\n",
              "      <td>0</td>\n",
              "    </tr>\n",
              "  </tbody>\n",
              "</table>\n",
              "</div>\n",
              "      <button class=\"colab-df-convert\" onclick=\"convertToInteractive('df-c0098f3a-2112-4213-9066-390fbcce343f')\"\n",
              "              title=\"Convert this dataframe to an interactive table.\"\n",
              "              style=\"display:none;\">\n",
              "        \n",
              "  <svg xmlns=\"http://www.w3.org/2000/svg\" height=\"24px\"viewBox=\"0 0 24 24\"\n",
              "       width=\"24px\">\n",
              "    <path d=\"M0 0h24v24H0V0z\" fill=\"none\"/>\n",
              "    <path d=\"M18.56 5.44l.94 2.06.94-2.06 2.06-.94-2.06-.94-.94-2.06-.94 2.06-2.06.94zm-11 1L8.5 8.5l.94-2.06 2.06-.94-2.06-.94L8.5 2.5l-.94 2.06-2.06.94zm10 10l.94 2.06.94-2.06 2.06-.94-2.06-.94-.94-2.06-.94 2.06-2.06.94z\"/><path d=\"M17.41 7.96l-1.37-1.37c-.4-.4-.92-.59-1.43-.59-.52 0-1.04.2-1.43.59L10.3 9.45l-7.72 7.72c-.78.78-.78 2.05 0 2.83L4 21.41c.39.39.9.59 1.41.59.51 0 1.02-.2 1.41-.59l7.78-7.78 2.81-2.81c.8-.78.8-2.07 0-2.86zM5.41 20L4 18.59l7.72-7.72 1.47 1.35L5.41 20z\"/>\n",
              "  </svg>\n",
              "      </button>\n",
              "      \n",
              "  <style>\n",
              "    .colab-df-container {\n",
              "      display:flex;\n",
              "      flex-wrap:wrap;\n",
              "      gap: 12px;\n",
              "    }\n",
              "\n",
              "    .colab-df-convert {\n",
              "      background-color: #E8F0FE;\n",
              "      border: none;\n",
              "      border-radius: 50%;\n",
              "      cursor: pointer;\n",
              "      display: none;\n",
              "      fill: #1967D2;\n",
              "      height: 32px;\n",
              "      padding: 0 0 0 0;\n",
              "      width: 32px;\n",
              "    }\n",
              "\n",
              "    .colab-df-convert:hover {\n",
              "      background-color: #E2EBFA;\n",
              "      box-shadow: 0px 1px 2px rgba(60, 64, 67, 0.3), 0px 1px 3px 1px rgba(60, 64, 67, 0.15);\n",
              "      fill: #174EA6;\n",
              "    }\n",
              "\n",
              "    [theme=dark] .colab-df-convert {\n",
              "      background-color: #3B4455;\n",
              "      fill: #D2E3FC;\n",
              "    }\n",
              "\n",
              "    [theme=dark] .colab-df-convert:hover {\n",
              "      background-color: #434B5C;\n",
              "      box-shadow: 0px 1px 3px 1px rgba(0, 0, 0, 0.15);\n",
              "      filter: drop-shadow(0px 1px 2px rgba(0, 0, 0, 0.3));\n",
              "      fill: #FFFFFF;\n",
              "    }\n",
              "  </style>\n",
              "\n",
              "      <script>\n",
              "        const buttonEl =\n",
              "          document.querySelector('#df-c0098f3a-2112-4213-9066-390fbcce343f button.colab-df-convert');\n",
              "        buttonEl.style.display =\n",
              "          google.colab.kernel.accessAllowed ? 'block' : 'none';\n",
              "\n",
              "        async function convertToInteractive(key) {\n",
              "          const element = document.querySelector('#df-c0098f3a-2112-4213-9066-390fbcce343f');\n",
              "          const dataTable =\n",
              "            await google.colab.kernel.invokeFunction('convertToInteractive',\n",
              "                                                     [key], {});\n",
              "          if (!dataTable) return;\n",
              "\n",
              "          const docLinkHtml = 'Like what you see? Visit the ' +\n",
              "            '<a target=\"_blank\" href=https://colab.research.google.com/notebooks/data_table.ipynb>data table notebook</a>'\n",
              "            + ' to learn more about interactive tables.';\n",
              "          element.innerHTML = '';\n",
              "          dataTable['output_type'] = 'display_data';\n",
              "          await google.colab.output.renderOutput(dataTable, element);\n",
              "          const docLink = document.createElement('div');\n",
              "          docLink.innerHTML = docLinkHtml;\n",
              "          element.appendChild(docLink);\n",
              "        }\n",
              "      </script>\n",
              "    </div>\n",
              "  </div>\n",
              "  "
            ]
          },
          "metadata": {},
          "execution_count": 29
        }
      ],
      "source": [
        "DRIVING_EXPERIENCE_dummies = pd.get_dummies(data['DRIVING_EXPERIENCE'])\n",
        "DRIVING_EXPERIENCE_dummies.head()"
      ]
    },
    {
      "cell_type": "code",
      "execution_count": 30,
      "metadata": {
        "colab": {
          "base_uri": "https://localhost:8080/",
          "height": 206
        },
        "id": "gwRNxCAE-Wka",
        "outputId": "070af002-c133-4998-ccc6-f943f864fc7d"
      },
      "outputs": [
        {
          "output_type": "execute_result",
          "data": {
            "text/plain": [
              "   high school  none  university\n",
              "0            1     0           0\n",
              "1            0     1           0\n",
              "2            1     0           0\n",
              "3            0     0           1\n",
              "4            0     1           0"
            ],
            "text/html": [
              "\n",
              "  <div id=\"df-838b55c6-ac15-475a-bf06-f7ed92177406\">\n",
              "    <div class=\"colab-df-container\">\n",
              "      <div>\n",
              "<style scoped>\n",
              "    .dataframe tbody tr th:only-of-type {\n",
              "        vertical-align: middle;\n",
              "    }\n",
              "\n",
              "    .dataframe tbody tr th {\n",
              "        vertical-align: top;\n",
              "    }\n",
              "\n",
              "    .dataframe thead th {\n",
              "        text-align: right;\n",
              "    }\n",
              "</style>\n",
              "<table border=\"1\" class=\"dataframe\">\n",
              "  <thead>\n",
              "    <tr style=\"text-align: right;\">\n",
              "      <th></th>\n",
              "      <th>high school</th>\n",
              "      <th>none</th>\n",
              "      <th>university</th>\n",
              "    </tr>\n",
              "  </thead>\n",
              "  <tbody>\n",
              "    <tr>\n",
              "      <th>0</th>\n",
              "      <td>1</td>\n",
              "      <td>0</td>\n",
              "      <td>0</td>\n",
              "    </tr>\n",
              "    <tr>\n",
              "      <th>1</th>\n",
              "      <td>0</td>\n",
              "      <td>1</td>\n",
              "      <td>0</td>\n",
              "    </tr>\n",
              "    <tr>\n",
              "      <th>2</th>\n",
              "      <td>1</td>\n",
              "      <td>0</td>\n",
              "      <td>0</td>\n",
              "    </tr>\n",
              "    <tr>\n",
              "      <th>3</th>\n",
              "      <td>0</td>\n",
              "      <td>0</td>\n",
              "      <td>1</td>\n",
              "    </tr>\n",
              "    <tr>\n",
              "      <th>4</th>\n",
              "      <td>0</td>\n",
              "      <td>1</td>\n",
              "      <td>0</td>\n",
              "    </tr>\n",
              "  </tbody>\n",
              "</table>\n",
              "</div>\n",
              "      <button class=\"colab-df-convert\" onclick=\"convertToInteractive('df-838b55c6-ac15-475a-bf06-f7ed92177406')\"\n",
              "              title=\"Convert this dataframe to an interactive table.\"\n",
              "              style=\"display:none;\">\n",
              "        \n",
              "  <svg xmlns=\"http://www.w3.org/2000/svg\" height=\"24px\"viewBox=\"0 0 24 24\"\n",
              "       width=\"24px\">\n",
              "    <path d=\"M0 0h24v24H0V0z\" fill=\"none\"/>\n",
              "    <path d=\"M18.56 5.44l.94 2.06.94-2.06 2.06-.94-2.06-.94-.94-2.06-.94 2.06-2.06.94zm-11 1L8.5 8.5l.94-2.06 2.06-.94-2.06-.94L8.5 2.5l-.94 2.06-2.06.94zm10 10l.94 2.06.94-2.06 2.06-.94-2.06-.94-.94-2.06-.94 2.06-2.06.94z\"/><path d=\"M17.41 7.96l-1.37-1.37c-.4-.4-.92-.59-1.43-.59-.52 0-1.04.2-1.43.59L10.3 9.45l-7.72 7.72c-.78.78-.78 2.05 0 2.83L4 21.41c.39.39.9.59 1.41.59.51 0 1.02-.2 1.41-.59l7.78-7.78 2.81-2.81c.8-.78.8-2.07 0-2.86zM5.41 20L4 18.59l7.72-7.72 1.47 1.35L5.41 20z\"/>\n",
              "  </svg>\n",
              "      </button>\n",
              "      \n",
              "  <style>\n",
              "    .colab-df-container {\n",
              "      display:flex;\n",
              "      flex-wrap:wrap;\n",
              "      gap: 12px;\n",
              "    }\n",
              "\n",
              "    .colab-df-convert {\n",
              "      background-color: #E8F0FE;\n",
              "      border: none;\n",
              "      border-radius: 50%;\n",
              "      cursor: pointer;\n",
              "      display: none;\n",
              "      fill: #1967D2;\n",
              "      height: 32px;\n",
              "      padding: 0 0 0 0;\n",
              "      width: 32px;\n",
              "    }\n",
              "\n",
              "    .colab-df-convert:hover {\n",
              "      background-color: #E2EBFA;\n",
              "      box-shadow: 0px 1px 2px rgba(60, 64, 67, 0.3), 0px 1px 3px 1px rgba(60, 64, 67, 0.15);\n",
              "      fill: #174EA6;\n",
              "    }\n",
              "\n",
              "    [theme=dark] .colab-df-convert {\n",
              "      background-color: #3B4455;\n",
              "      fill: #D2E3FC;\n",
              "    }\n",
              "\n",
              "    [theme=dark] .colab-df-convert:hover {\n",
              "      background-color: #434B5C;\n",
              "      box-shadow: 0px 1px 3px 1px rgba(0, 0, 0, 0.15);\n",
              "      filter: drop-shadow(0px 1px 2px rgba(0, 0, 0, 0.3));\n",
              "      fill: #FFFFFF;\n",
              "    }\n",
              "  </style>\n",
              "\n",
              "      <script>\n",
              "        const buttonEl =\n",
              "          document.querySelector('#df-838b55c6-ac15-475a-bf06-f7ed92177406 button.colab-df-convert');\n",
              "        buttonEl.style.display =\n",
              "          google.colab.kernel.accessAllowed ? 'block' : 'none';\n",
              "\n",
              "        async function convertToInteractive(key) {\n",
              "          const element = document.querySelector('#df-838b55c6-ac15-475a-bf06-f7ed92177406');\n",
              "          const dataTable =\n",
              "            await google.colab.kernel.invokeFunction('convertToInteractive',\n",
              "                                                     [key], {});\n",
              "          if (!dataTable) return;\n",
              "\n",
              "          const docLinkHtml = 'Like what you see? Visit the ' +\n",
              "            '<a target=\"_blank\" href=https://colab.research.google.com/notebooks/data_table.ipynb>data table notebook</a>'\n",
              "            + ' to learn more about interactive tables.';\n",
              "          element.innerHTML = '';\n",
              "          dataTable['output_type'] = 'display_data';\n",
              "          await google.colab.output.renderOutput(dataTable, element);\n",
              "          const docLink = document.createElement('div');\n",
              "          docLink.innerHTML = docLinkHtml;\n",
              "          element.appendChild(docLink);\n",
              "        }\n",
              "      </script>\n",
              "    </div>\n",
              "  </div>\n",
              "  "
            ]
          },
          "metadata": {},
          "execution_count": 30
        }
      ],
      "source": [
        "EDUCATION_dummies = pd.get_dummies(data['EDUCATION'])\n",
        "EDUCATION_dummies.head()"
      ]
    },
    {
      "cell_type": "code",
      "execution_count": 31,
      "metadata": {
        "colab": {
          "base_uri": "https://localhost:8080/",
          "height": 206
        },
        "id": "SszF-DBH-Wka",
        "outputId": "79a3aa97-08f4-40a7-9952-02ffa5173aab"
      },
      "outputs": [
        {
          "output_type": "execute_result",
          "data": {
            "text/plain": [
              "   middle class  poverty  upper class  working class\n",
              "0             0        0            1              0\n",
              "1             0        1            0              0\n",
              "2             0        0            0              1\n",
              "3             0        0            0              1\n",
              "4             0        0            0              1"
            ],
            "text/html": [
              "\n",
              "  <div id=\"df-016ee02c-17cc-41c7-9261-bf32a9ba1004\">\n",
              "    <div class=\"colab-df-container\">\n",
              "      <div>\n",
              "<style scoped>\n",
              "    .dataframe tbody tr th:only-of-type {\n",
              "        vertical-align: middle;\n",
              "    }\n",
              "\n",
              "    .dataframe tbody tr th {\n",
              "        vertical-align: top;\n",
              "    }\n",
              "\n",
              "    .dataframe thead th {\n",
              "        text-align: right;\n",
              "    }\n",
              "</style>\n",
              "<table border=\"1\" class=\"dataframe\">\n",
              "  <thead>\n",
              "    <tr style=\"text-align: right;\">\n",
              "      <th></th>\n",
              "      <th>middle class</th>\n",
              "      <th>poverty</th>\n",
              "      <th>upper class</th>\n",
              "      <th>working class</th>\n",
              "    </tr>\n",
              "  </thead>\n",
              "  <tbody>\n",
              "    <tr>\n",
              "      <th>0</th>\n",
              "      <td>0</td>\n",
              "      <td>0</td>\n",
              "      <td>1</td>\n",
              "      <td>0</td>\n",
              "    </tr>\n",
              "    <tr>\n",
              "      <th>1</th>\n",
              "      <td>0</td>\n",
              "      <td>1</td>\n",
              "      <td>0</td>\n",
              "      <td>0</td>\n",
              "    </tr>\n",
              "    <tr>\n",
              "      <th>2</th>\n",
              "      <td>0</td>\n",
              "      <td>0</td>\n",
              "      <td>0</td>\n",
              "      <td>1</td>\n",
              "    </tr>\n",
              "    <tr>\n",
              "      <th>3</th>\n",
              "      <td>0</td>\n",
              "      <td>0</td>\n",
              "      <td>0</td>\n",
              "      <td>1</td>\n",
              "    </tr>\n",
              "    <tr>\n",
              "      <th>4</th>\n",
              "      <td>0</td>\n",
              "      <td>0</td>\n",
              "      <td>0</td>\n",
              "      <td>1</td>\n",
              "    </tr>\n",
              "  </tbody>\n",
              "</table>\n",
              "</div>\n",
              "      <button class=\"colab-df-convert\" onclick=\"convertToInteractive('df-016ee02c-17cc-41c7-9261-bf32a9ba1004')\"\n",
              "              title=\"Convert this dataframe to an interactive table.\"\n",
              "              style=\"display:none;\">\n",
              "        \n",
              "  <svg xmlns=\"http://www.w3.org/2000/svg\" height=\"24px\"viewBox=\"0 0 24 24\"\n",
              "       width=\"24px\">\n",
              "    <path d=\"M0 0h24v24H0V0z\" fill=\"none\"/>\n",
              "    <path d=\"M18.56 5.44l.94 2.06.94-2.06 2.06-.94-2.06-.94-.94-2.06-.94 2.06-2.06.94zm-11 1L8.5 8.5l.94-2.06 2.06-.94-2.06-.94L8.5 2.5l-.94 2.06-2.06.94zm10 10l.94 2.06.94-2.06 2.06-.94-2.06-.94-.94-2.06-.94 2.06-2.06.94z\"/><path d=\"M17.41 7.96l-1.37-1.37c-.4-.4-.92-.59-1.43-.59-.52 0-1.04.2-1.43.59L10.3 9.45l-7.72 7.72c-.78.78-.78 2.05 0 2.83L4 21.41c.39.39.9.59 1.41.59.51 0 1.02-.2 1.41-.59l7.78-7.78 2.81-2.81c.8-.78.8-2.07 0-2.86zM5.41 20L4 18.59l7.72-7.72 1.47 1.35L5.41 20z\"/>\n",
              "  </svg>\n",
              "      </button>\n",
              "      \n",
              "  <style>\n",
              "    .colab-df-container {\n",
              "      display:flex;\n",
              "      flex-wrap:wrap;\n",
              "      gap: 12px;\n",
              "    }\n",
              "\n",
              "    .colab-df-convert {\n",
              "      background-color: #E8F0FE;\n",
              "      border: none;\n",
              "      border-radius: 50%;\n",
              "      cursor: pointer;\n",
              "      display: none;\n",
              "      fill: #1967D2;\n",
              "      height: 32px;\n",
              "      padding: 0 0 0 0;\n",
              "      width: 32px;\n",
              "    }\n",
              "\n",
              "    .colab-df-convert:hover {\n",
              "      background-color: #E2EBFA;\n",
              "      box-shadow: 0px 1px 2px rgba(60, 64, 67, 0.3), 0px 1px 3px 1px rgba(60, 64, 67, 0.15);\n",
              "      fill: #174EA6;\n",
              "    }\n",
              "\n",
              "    [theme=dark] .colab-df-convert {\n",
              "      background-color: #3B4455;\n",
              "      fill: #D2E3FC;\n",
              "    }\n",
              "\n",
              "    [theme=dark] .colab-df-convert:hover {\n",
              "      background-color: #434B5C;\n",
              "      box-shadow: 0px 1px 3px 1px rgba(0, 0, 0, 0.15);\n",
              "      filter: drop-shadow(0px 1px 2px rgba(0, 0, 0, 0.3));\n",
              "      fill: #FFFFFF;\n",
              "    }\n",
              "  </style>\n",
              "\n",
              "      <script>\n",
              "        const buttonEl =\n",
              "          document.querySelector('#df-016ee02c-17cc-41c7-9261-bf32a9ba1004 button.colab-df-convert');\n",
              "        buttonEl.style.display =\n",
              "          google.colab.kernel.accessAllowed ? 'block' : 'none';\n",
              "\n",
              "        async function convertToInteractive(key) {\n",
              "          const element = document.querySelector('#df-016ee02c-17cc-41c7-9261-bf32a9ba1004');\n",
              "          const dataTable =\n",
              "            await google.colab.kernel.invokeFunction('convertToInteractive',\n",
              "                                                     [key], {});\n",
              "          if (!dataTable) return;\n",
              "\n",
              "          const docLinkHtml = 'Like what you see? Visit the ' +\n",
              "            '<a target=\"_blank\" href=https://colab.research.google.com/notebooks/data_table.ipynb>data table notebook</a>'\n",
              "            + ' to learn more about interactive tables.';\n",
              "          element.innerHTML = '';\n",
              "          dataTable['output_type'] = 'display_data';\n",
              "          await google.colab.output.renderOutput(dataTable, element);\n",
              "          const docLink = document.createElement('div');\n",
              "          docLink.innerHTML = docLinkHtml;\n",
              "          element.appendChild(docLink);\n",
              "        }\n",
              "      </script>\n",
              "    </div>\n",
              "  </div>\n",
              "  "
            ]
          },
          "metadata": {},
          "execution_count": 31
        }
      ],
      "source": [
        "INCOME_dummies = pd.get_dummies(data['INCOME'])\n",
        "INCOME_dummies.head()"
      ]
    },
    {
      "cell_type": "markdown",
      "metadata": {
        "id": "2avlpTF8-Wka"
      },
      "source": [
        "Добавим dummy-столбцы к таблице и удалим \"AGE\", \"DRIVING_EXPERIENCE\", \"EDUCATION\", \"INCOME\":"
      ]
    },
    {
      "cell_type": "code",
      "execution_count": 32,
      "metadata": {
        "colab": {
          "base_uri": "https://localhost:8080/",
          "height": 297
        },
        "id": "1vQpgCpm-Wka",
        "outputId": "f2d073e3-1e9a-449d-af4b-3f4ba393741b"
      },
      "outputs": [
        {
          "output_type": "execute_result",
          "data": {
            "text/plain": [
              "       ID  GENDER  RACE  CREDIT_SCORE  VEHICLE_OWNERSHIP  VEHICLE_YEAR  \\\n",
              "0  569520       0     0      0.629027               True             0   \n",
              "1  750365       1     0      0.357757              False             1   \n",
              "2  199901       0     0      0.493146               True             1   \n",
              "3  478866       1     0      0.206013               True             1   \n",
              "4  731664       1     0      0.388366               True             1   \n",
              "\n",
              "   MARRIED  CHILDREN  POSTAL_CODE  ANNUAL_MILEAGE  ...  10-19y  20-29y  30y+  \\\n",
              "0    False      True        10238         12000.0  ...       0       0     0   \n",
              "1    False     False        10238         16000.0  ...       0       0     0   \n",
              "2    False     False        10238         11000.0  ...       0       0     0   \n",
              "3    False      True        32765         11000.0  ...       0       0     0   \n",
              "4    False     False        32765         12000.0  ...       1       0     0   \n",
              "\n",
              "   high school  none  university  middle class  poverty  upper class  \\\n",
              "0            1     0           0             0        0            1   \n",
              "1            0     1           0             0        1            0   \n",
              "2            1     0           0             0        0            0   \n",
              "3            0     0           1             0        0            0   \n",
              "4            0     1           0             0        0            0   \n",
              "\n",
              "   working class  \n",
              "0              0  \n",
              "1              0  \n",
              "2              1  \n",
              "3              1  \n",
              "4              1  \n",
              "\n",
              "[5 rows x 30 columns]"
            ],
            "text/html": [
              "\n",
              "  <div id=\"df-a26ea7f4-ab05-4ef3-a75f-8e824c5b255d\">\n",
              "    <div class=\"colab-df-container\">\n",
              "      <div>\n",
              "<style scoped>\n",
              "    .dataframe tbody tr th:only-of-type {\n",
              "        vertical-align: middle;\n",
              "    }\n",
              "\n",
              "    .dataframe tbody tr th {\n",
              "        vertical-align: top;\n",
              "    }\n",
              "\n",
              "    .dataframe thead th {\n",
              "        text-align: right;\n",
              "    }\n",
              "</style>\n",
              "<table border=\"1\" class=\"dataframe\">\n",
              "  <thead>\n",
              "    <tr style=\"text-align: right;\">\n",
              "      <th></th>\n",
              "      <th>ID</th>\n",
              "      <th>GENDER</th>\n",
              "      <th>RACE</th>\n",
              "      <th>CREDIT_SCORE</th>\n",
              "      <th>VEHICLE_OWNERSHIP</th>\n",
              "      <th>VEHICLE_YEAR</th>\n",
              "      <th>MARRIED</th>\n",
              "      <th>CHILDREN</th>\n",
              "      <th>POSTAL_CODE</th>\n",
              "      <th>ANNUAL_MILEAGE</th>\n",
              "      <th>...</th>\n",
              "      <th>10-19y</th>\n",
              "      <th>20-29y</th>\n",
              "      <th>30y+</th>\n",
              "      <th>high school</th>\n",
              "      <th>none</th>\n",
              "      <th>university</th>\n",
              "      <th>middle class</th>\n",
              "      <th>poverty</th>\n",
              "      <th>upper class</th>\n",
              "      <th>working class</th>\n",
              "    </tr>\n",
              "  </thead>\n",
              "  <tbody>\n",
              "    <tr>\n",
              "      <th>0</th>\n",
              "      <td>569520</td>\n",
              "      <td>0</td>\n",
              "      <td>0</td>\n",
              "      <td>0.629027</td>\n",
              "      <td>True</td>\n",
              "      <td>0</td>\n",
              "      <td>False</td>\n",
              "      <td>True</td>\n",
              "      <td>10238</td>\n",
              "      <td>12000.0</td>\n",
              "      <td>...</td>\n",
              "      <td>0</td>\n",
              "      <td>0</td>\n",
              "      <td>0</td>\n",
              "      <td>1</td>\n",
              "      <td>0</td>\n",
              "      <td>0</td>\n",
              "      <td>0</td>\n",
              "      <td>0</td>\n",
              "      <td>1</td>\n",
              "      <td>0</td>\n",
              "    </tr>\n",
              "    <tr>\n",
              "      <th>1</th>\n",
              "      <td>750365</td>\n",
              "      <td>1</td>\n",
              "      <td>0</td>\n",
              "      <td>0.357757</td>\n",
              "      <td>False</td>\n",
              "      <td>1</td>\n",
              "      <td>False</td>\n",
              "      <td>False</td>\n",
              "      <td>10238</td>\n",
              "      <td>16000.0</td>\n",
              "      <td>...</td>\n",
              "      <td>0</td>\n",
              "      <td>0</td>\n",
              "      <td>0</td>\n",
              "      <td>0</td>\n",
              "      <td>1</td>\n",
              "      <td>0</td>\n",
              "      <td>0</td>\n",
              "      <td>1</td>\n",
              "      <td>0</td>\n",
              "      <td>0</td>\n",
              "    </tr>\n",
              "    <tr>\n",
              "      <th>2</th>\n",
              "      <td>199901</td>\n",
              "      <td>0</td>\n",
              "      <td>0</td>\n",
              "      <td>0.493146</td>\n",
              "      <td>True</td>\n",
              "      <td>1</td>\n",
              "      <td>False</td>\n",
              "      <td>False</td>\n",
              "      <td>10238</td>\n",
              "      <td>11000.0</td>\n",
              "      <td>...</td>\n",
              "      <td>0</td>\n",
              "      <td>0</td>\n",
              "      <td>0</td>\n",
              "      <td>1</td>\n",
              "      <td>0</td>\n",
              "      <td>0</td>\n",
              "      <td>0</td>\n",
              "      <td>0</td>\n",
              "      <td>0</td>\n",
              "      <td>1</td>\n",
              "    </tr>\n",
              "    <tr>\n",
              "      <th>3</th>\n",
              "      <td>478866</td>\n",
              "      <td>1</td>\n",
              "      <td>0</td>\n",
              "      <td>0.206013</td>\n",
              "      <td>True</td>\n",
              "      <td>1</td>\n",
              "      <td>False</td>\n",
              "      <td>True</td>\n",
              "      <td>32765</td>\n",
              "      <td>11000.0</td>\n",
              "      <td>...</td>\n",
              "      <td>0</td>\n",
              "      <td>0</td>\n",
              "      <td>0</td>\n",
              "      <td>0</td>\n",
              "      <td>0</td>\n",
              "      <td>1</td>\n",
              "      <td>0</td>\n",
              "      <td>0</td>\n",
              "      <td>0</td>\n",
              "      <td>1</td>\n",
              "    </tr>\n",
              "    <tr>\n",
              "      <th>4</th>\n",
              "      <td>731664</td>\n",
              "      <td>1</td>\n",
              "      <td>0</td>\n",
              "      <td>0.388366</td>\n",
              "      <td>True</td>\n",
              "      <td>1</td>\n",
              "      <td>False</td>\n",
              "      <td>False</td>\n",
              "      <td>32765</td>\n",
              "      <td>12000.0</td>\n",
              "      <td>...</td>\n",
              "      <td>1</td>\n",
              "      <td>0</td>\n",
              "      <td>0</td>\n",
              "      <td>0</td>\n",
              "      <td>1</td>\n",
              "      <td>0</td>\n",
              "      <td>0</td>\n",
              "      <td>0</td>\n",
              "      <td>0</td>\n",
              "      <td>1</td>\n",
              "    </tr>\n",
              "  </tbody>\n",
              "</table>\n",
              "<p>5 rows × 30 columns</p>\n",
              "</div>\n",
              "      <button class=\"colab-df-convert\" onclick=\"convertToInteractive('df-a26ea7f4-ab05-4ef3-a75f-8e824c5b255d')\"\n",
              "              title=\"Convert this dataframe to an interactive table.\"\n",
              "              style=\"display:none;\">\n",
              "        \n",
              "  <svg xmlns=\"http://www.w3.org/2000/svg\" height=\"24px\"viewBox=\"0 0 24 24\"\n",
              "       width=\"24px\">\n",
              "    <path d=\"M0 0h24v24H0V0z\" fill=\"none\"/>\n",
              "    <path d=\"M18.56 5.44l.94 2.06.94-2.06 2.06-.94-2.06-.94-.94-2.06-.94 2.06-2.06.94zm-11 1L8.5 8.5l.94-2.06 2.06-.94-2.06-.94L8.5 2.5l-.94 2.06-2.06.94zm10 10l.94 2.06.94-2.06 2.06-.94-2.06-.94-.94-2.06-.94 2.06-2.06.94z\"/><path d=\"M17.41 7.96l-1.37-1.37c-.4-.4-.92-.59-1.43-.59-.52 0-1.04.2-1.43.59L10.3 9.45l-7.72 7.72c-.78.78-.78 2.05 0 2.83L4 21.41c.39.39.9.59 1.41.59.51 0 1.02-.2 1.41-.59l7.78-7.78 2.81-2.81c.8-.78.8-2.07 0-2.86zM5.41 20L4 18.59l7.72-7.72 1.47 1.35L5.41 20z\"/>\n",
              "  </svg>\n",
              "      </button>\n",
              "      \n",
              "  <style>\n",
              "    .colab-df-container {\n",
              "      display:flex;\n",
              "      flex-wrap:wrap;\n",
              "      gap: 12px;\n",
              "    }\n",
              "\n",
              "    .colab-df-convert {\n",
              "      background-color: #E8F0FE;\n",
              "      border: none;\n",
              "      border-radius: 50%;\n",
              "      cursor: pointer;\n",
              "      display: none;\n",
              "      fill: #1967D2;\n",
              "      height: 32px;\n",
              "      padding: 0 0 0 0;\n",
              "      width: 32px;\n",
              "    }\n",
              "\n",
              "    .colab-df-convert:hover {\n",
              "      background-color: #E2EBFA;\n",
              "      box-shadow: 0px 1px 2px rgba(60, 64, 67, 0.3), 0px 1px 3px 1px rgba(60, 64, 67, 0.15);\n",
              "      fill: #174EA6;\n",
              "    }\n",
              "\n",
              "    [theme=dark] .colab-df-convert {\n",
              "      background-color: #3B4455;\n",
              "      fill: #D2E3FC;\n",
              "    }\n",
              "\n",
              "    [theme=dark] .colab-df-convert:hover {\n",
              "      background-color: #434B5C;\n",
              "      box-shadow: 0px 1px 3px 1px rgba(0, 0, 0, 0.15);\n",
              "      filter: drop-shadow(0px 1px 2px rgba(0, 0, 0, 0.3));\n",
              "      fill: #FFFFFF;\n",
              "    }\n",
              "  </style>\n",
              "\n",
              "      <script>\n",
              "        const buttonEl =\n",
              "          document.querySelector('#df-a26ea7f4-ab05-4ef3-a75f-8e824c5b255d button.colab-df-convert');\n",
              "        buttonEl.style.display =\n",
              "          google.colab.kernel.accessAllowed ? 'block' : 'none';\n",
              "\n",
              "        async function convertToInteractive(key) {\n",
              "          const element = document.querySelector('#df-a26ea7f4-ab05-4ef3-a75f-8e824c5b255d');\n",
              "          const dataTable =\n",
              "            await google.colab.kernel.invokeFunction('convertToInteractive',\n",
              "                                                     [key], {});\n",
              "          if (!dataTable) return;\n",
              "\n",
              "          const docLinkHtml = 'Like what you see? Visit the ' +\n",
              "            '<a target=\"_blank\" href=https://colab.research.google.com/notebooks/data_table.ipynb>data table notebook</a>'\n",
              "            + ' to learn more about interactive tables.';\n",
              "          element.innerHTML = '';\n",
              "          dataTable['output_type'] = 'display_data';\n",
              "          await google.colab.output.renderOutput(dataTable, element);\n",
              "          const docLink = document.createElement('div');\n",
              "          docLink.innerHTML = docLinkHtml;\n",
              "          element.appendChild(docLink);\n",
              "        }\n",
              "      </script>\n",
              "    </div>\n",
              "  </div>\n",
              "  "
            ]
          },
          "metadata": {},
          "execution_count": 32
        }
      ],
      "source": [
        "data = pd.concat((data, AGE_dummies), axis=1)\n",
        "data = pd.concat((data, DRIVING_EXPERIENCE_dummies), axis=1)\n",
        "data = pd.concat((data, EDUCATION_dummies), axis=1)\n",
        "data = pd.concat((data, INCOME_dummies), axis=1)\n",
        "\n",
        "data = data.drop(['AGE'], axis=1)\n",
        "data = data.drop(['DRIVING_EXPERIENCE'], axis=1)\n",
        "data = data.drop(['EDUCATION'], axis=1)\n",
        "data = data.drop(['INCOME'], axis=1)\n",
        "data.head()"
      ]
    },
    {
      "cell_type": "markdown",
      "metadata": {
        "id": "snZ-UQNF-Wka"
      },
      "source": [
        "### **5. Нормализация признаков**\n",
        "\n",
        "Многие алгоритмы машинного обучения чувствительны к масштабированию данных. К таким алгоритмам, например, относится метод ближайших соседей, машина опорных векторов и др.\n",
        "\n",
        "Выполним стандартизацию всех признаков:"
      ]
    },
    {
      "cell_type": "code",
      "execution_count": 33,
      "metadata": {
        "colab": {
          "base_uri": "https://localhost:8080/",
          "height": 498
        },
        "id": "h8qllg8B-Wka",
        "outputId": "44f6ba49-45a8-4dce-ba07-768ea25935ea"
      },
      "outputs": [
        {
          "output_type": "execute_result",
          "data": {
            "text/plain": [
              "                 ID        GENDER          RACE  CREDIT_SCORE  \\\n",
              "count  1.000000e+04  1.000000e+04  1.000000e+04  1.000000e+04   \n",
              "mean   1.278977e-17 -6.963319e-17  1.101341e-17 -2.799538e-16   \n",
              "std    1.000000e+00  1.000000e+00  1.000000e+00  1.000000e+00   \n",
              "min   -1.725406e+00 -9.979521e-01 -3.310901e-01 -3.543027e+00   \n",
              "25%   -8.650234e-01 -9.979521e-01 -3.310901e-01 -6.515381e-01   \n",
              "50%    4.327448e-03 -9.979521e-01 -3.310901e-01  6.357612e-02   \n",
              "75%    8.738817e-01  1.001952e+00 -3.310901e-01  6.949655e-01   \n",
              "max    1.722073e+00  1.001952e+00  3.020024e+00  3.395757e+00   \n",
              "\n",
              "       VEHICLE_OWNERSHIP  VEHICLE_YEAR       MARRIED      CHILDREN  \\\n",
              "count       1.000000e+04  1.000000e+04  1.000000e+04  1.000000e+04   \n",
              "mean        1.106670e-16 -9.947598e-18  5.826450e-17  4.174439e-17   \n",
              "std         1.000000e+00  1.000000e+00  1.000000e+00  1.000000e+00   \n",
              "min        -1.516608e+00 -1.515532e+00 -9.963566e-01 -1.487665e+00   \n",
              "25%        -1.516608e+00 -1.515532e+00 -9.963566e-01 -1.487665e+00   \n",
              "50%         6.593002e-01  6.597685e-01 -9.963566e-01  6.721273e-01   \n",
              "75%         6.593002e-01  6.597685e-01  1.003556e+00  6.721273e-01   \n",
              "max         6.593002e-01  6.597685e-01  1.003556e+00  6.721273e-01   \n",
              "\n",
              "        POSTAL_CODE  ANNUAL_MILEAGE  ...        10-19y        20-29y  \\\n",
              "count  1.000000e+04    1.000000e+04  ...  1.000000e+04  1.000000e+04   \n",
              "mean   1.350031e-17    1.243450e-17  ... -4.511946e-17  2.842171e-18   \n",
              "std    1.000000e+00    1.000000e+00  ...  1.000000e+00  1.000000e+00   \n",
              "min   -5.089208e-01   -3.626872e+00  ... -7.016162e-01 -5.185052e-01   \n",
              "25%   -5.089208e-01   -6.436337e-01  ... -7.016162e-01 -5.185052e-01   \n",
              "50%   -5.089208e-01    1.021759e-01  ... -7.016162e-01 -5.185052e-01   \n",
              "75%    6.820002e-01    4.750808e-01  ...  1.425138e+00 -5.185052e-01   \n",
              "max    3.818880e+00    3.831224e+00  ...  1.425138e+00  1.928428e+00   \n",
              "\n",
              "               30y+   high school          none    university  middle class  \\\n",
              "count  1.000000e+04  1.000000e+04  1.000000e+04  1.000000e+04  1.000000e+04   \n",
              "mean   1.847411e-17  2.646772e-17 -3.073097e-17 -8.988366e-17 -2.131628e-17   \n",
              "std    1.000000e+00  1.000000e+00  1.000000e+00  1.000000e+00  1.000000e+00   \n",
              "min   -3.428650e-01 -8.434325e-01 -4.866566e-01 -8.042631e-01 -5.214535e-01   \n",
              "25%   -3.428650e-01 -8.434325e-01 -4.866566e-01 -8.042631e-01 -5.214535e-01   \n",
              "50%   -3.428650e-01 -8.434325e-01 -4.866566e-01 -8.042631e-01 -5.214535e-01   \n",
              "75%   -3.428650e-01  1.185513e+00 -4.866566e-01  1.243250e+00 -5.214535e-01   \n",
              "max    2.916308e+00  1.185513e+00  2.054631e+00  1.243250e+00  1.917525e+00   \n",
              "\n",
              "            poverty   upper class  working class  \n",
              "count  1.000000e+04  1.000000e+04   1.000000e+04  \n",
              "mean  -4.192202e-17  1.030287e-17   2.593481e-17  \n",
              "std    1.000000e+00  1.000000e+00   1.000000e+00  \n",
              "min   -4.707183e-01 -8.749058e-01  -4.544701e-01  \n",
              "25%   -4.707183e-01 -8.749058e-01  -4.544701e-01  \n",
              "50%   -4.707183e-01 -8.749058e-01  -4.544701e-01  \n",
              "75%   -4.707183e-01  1.142866e+00  -4.544701e-01  \n",
              "max    2.124201e+00  1.142866e+00   2.200145e+00  \n",
              "\n",
              "[8 rows x 30 columns]"
            ],
            "text/html": [
              "\n",
              "  <div id=\"df-06d096e2-4ffc-4f29-ad6e-48440a6d6f14\">\n",
              "    <div class=\"colab-df-container\">\n",
              "      <div>\n",
              "<style scoped>\n",
              "    .dataframe tbody tr th:only-of-type {\n",
              "        vertical-align: middle;\n",
              "    }\n",
              "\n",
              "    .dataframe tbody tr th {\n",
              "        vertical-align: top;\n",
              "    }\n",
              "\n",
              "    .dataframe thead th {\n",
              "        text-align: right;\n",
              "    }\n",
              "</style>\n",
              "<table border=\"1\" class=\"dataframe\">\n",
              "  <thead>\n",
              "    <tr style=\"text-align: right;\">\n",
              "      <th></th>\n",
              "      <th>ID</th>\n",
              "      <th>GENDER</th>\n",
              "      <th>RACE</th>\n",
              "      <th>CREDIT_SCORE</th>\n",
              "      <th>VEHICLE_OWNERSHIP</th>\n",
              "      <th>VEHICLE_YEAR</th>\n",
              "      <th>MARRIED</th>\n",
              "      <th>CHILDREN</th>\n",
              "      <th>POSTAL_CODE</th>\n",
              "      <th>ANNUAL_MILEAGE</th>\n",
              "      <th>...</th>\n",
              "      <th>10-19y</th>\n",
              "      <th>20-29y</th>\n",
              "      <th>30y+</th>\n",
              "      <th>high school</th>\n",
              "      <th>none</th>\n",
              "      <th>university</th>\n",
              "      <th>middle class</th>\n",
              "      <th>poverty</th>\n",
              "      <th>upper class</th>\n",
              "      <th>working class</th>\n",
              "    </tr>\n",
              "  </thead>\n",
              "  <tbody>\n",
              "    <tr>\n",
              "      <th>count</th>\n",
              "      <td>1.000000e+04</td>\n",
              "      <td>1.000000e+04</td>\n",
              "      <td>1.000000e+04</td>\n",
              "      <td>1.000000e+04</td>\n",
              "      <td>1.000000e+04</td>\n",
              "      <td>1.000000e+04</td>\n",
              "      <td>1.000000e+04</td>\n",
              "      <td>1.000000e+04</td>\n",
              "      <td>1.000000e+04</td>\n",
              "      <td>1.000000e+04</td>\n",
              "      <td>...</td>\n",
              "      <td>1.000000e+04</td>\n",
              "      <td>1.000000e+04</td>\n",
              "      <td>1.000000e+04</td>\n",
              "      <td>1.000000e+04</td>\n",
              "      <td>1.000000e+04</td>\n",
              "      <td>1.000000e+04</td>\n",
              "      <td>1.000000e+04</td>\n",
              "      <td>1.000000e+04</td>\n",
              "      <td>1.000000e+04</td>\n",
              "      <td>1.000000e+04</td>\n",
              "    </tr>\n",
              "    <tr>\n",
              "      <th>mean</th>\n",
              "      <td>1.278977e-17</td>\n",
              "      <td>-6.963319e-17</td>\n",
              "      <td>1.101341e-17</td>\n",
              "      <td>-2.799538e-16</td>\n",
              "      <td>1.106670e-16</td>\n",
              "      <td>-9.947598e-18</td>\n",
              "      <td>5.826450e-17</td>\n",
              "      <td>4.174439e-17</td>\n",
              "      <td>1.350031e-17</td>\n",
              "      <td>1.243450e-17</td>\n",
              "      <td>...</td>\n",
              "      <td>-4.511946e-17</td>\n",
              "      <td>2.842171e-18</td>\n",
              "      <td>1.847411e-17</td>\n",
              "      <td>2.646772e-17</td>\n",
              "      <td>-3.073097e-17</td>\n",
              "      <td>-8.988366e-17</td>\n",
              "      <td>-2.131628e-17</td>\n",
              "      <td>-4.192202e-17</td>\n",
              "      <td>1.030287e-17</td>\n",
              "      <td>2.593481e-17</td>\n",
              "    </tr>\n",
              "    <tr>\n",
              "      <th>std</th>\n",
              "      <td>1.000000e+00</td>\n",
              "      <td>1.000000e+00</td>\n",
              "      <td>1.000000e+00</td>\n",
              "      <td>1.000000e+00</td>\n",
              "      <td>1.000000e+00</td>\n",
              "      <td>1.000000e+00</td>\n",
              "      <td>1.000000e+00</td>\n",
              "      <td>1.000000e+00</td>\n",
              "      <td>1.000000e+00</td>\n",
              "      <td>1.000000e+00</td>\n",
              "      <td>...</td>\n",
              "      <td>1.000000e+00</td>\n",
              "      <td>1.000000e+00</td>\n",
              "      <td>1.000000e+00</td>\n",
              "      <td>1.000000e+00</td>\n",
              "      <td>1.000000e+00</td>\n",
              "      <td>1.000000e+00</td>\n",
              "      <td>1.000000e+00</td>\n",
              "      <td>1.000000e+00</td>\n",
              "      <td>1.000000e+00</td>\n",
              "      <td>1.000000e+00</td>\n",
              "    </tr>\n",
              "    <tr>\n",
              "      <th>min</th>\n",
              "      <td>-1.725406e+00</td>\n",
              "      <td>-9.979521e-01</td>\n",
              "      <td>-3.310901e-01</td>\n",
              "      <td>-3.543027e+00</td>\n",
              "      <td>-1.516608e+00</td>\n",
              "      <td>-1.515532e+00</td>\n",
              "      <td>-9.963566e-01</td>\n",
              "      <td>-1.487665e+00</td>\n",
              "      <td>-5.089208e-01</td>\n",
              "      <td>-3.626872e+00</td>\n",
              "      <td>...</td>\n",
              "      <td>-7.016162e-01</td>\n",
              "      <td>-5.185052e-01</td>\n",
              "      <td>-3.428650e-01</td>\n",
              "      <td>-8.434325e-01</td>\n",
              "      <td>-4.866566e-01</td>\n",
              "      <td>-8.042631e-01</td>\n",
              "      <td>-5.214535e-01</td>\n",
              "      <td>-4.707183e-01</td>\n",
              "      <td>-8.749058e-01</td>\n",
              "      <td>-4.544701e-01</td>\n",
              "    </tr>\n",
              "    <tr>\n",
              "      <th>25%</th>\n",
              "      <td>-8.650234e-01</td>\n",
              "      <td>-9.979521e-01</td>\n",
              "      <td>-3.310901e-01</td>\n",
              "      <td>-6.515381e-01</td>\n",
              "      <td>-1.516608e+00</td>\n",
              "      <td>-1.515532e+00</td>\n",
              "      <td>-9.963566e-01</td>\n",
              "      <td>-1.487665e+00</td>\n",
              "      <td>-5.089208e-01</td>\n",
              "      <td>-6.436337e-01</td>\n",
              "      <td>...</td>\n",
              "      <td>-7.016162e-01</td>\n",
              "      <td>-5.185052e-01</td>\n",
              "      <td>-3.428650e-01</td>\n",
              "      <td>-8.434325e-01</td>\n",
              "      <td>-4.866566e-01</td>\n",
              "      <td>-8.042631e-01</td>\n",
              "      <td>-5.214535e-01</td>\n",
              "      <td>-4.707183e-01</td>\n",
              "      <td>-8.749058e-01</td>\n",
              "      <td>-4.544701e-01</td>\n",
              "    </tr>\n",
              "    <tr>\n",
              "      <th>50%</th>\n",
              "      <td>4.327448e-03</td>\n",
              "      <td>-9.979521e-01</td>\n",
              "      <td>-3.310901e-01</td>\n",
              "      <td>6.357612e-02</td>\n",
              "      <td>6.593002e-01</td>\n",
              "      <td>6.597685e-01</td>\n",
              "      <td>-9.963566e-01</td>\n",
              "      <td>6.721273e-01</td>\n",
              "      <td>-5.089208e-01</td>\n",
              "      <td>1.021759e-01</td>\n",
              "      <td>...</td>\n",
              "      <td>-7.016162e-01</td>\n",
              "      <td>-5.185052e-01</td>\n",
              "      <td>-3.428650e-01</td>\n",
              "      <td>-8.434325e-01</td>\n",
              "      <td>-4.866566e-01</td>\n",
              "      <td>-8.042631e-01</td>\n",
              "      <td>-5.214535e-01</td>\n",
              "      <td>-4.707183e-01</td>\n",
              "      <td>-8.749058e-01</td>\n",
              "      <td>-4.544701e-01</td>\n",
              "    </tr>\n",
              "    <tr>\n",
              "      <th>75%</th>\n",
              "      <td>8.738817e-01</td>\n",
              "      <td>1.001952e+00</td>\n",
              "      <td>-3.310901e-01</td>\n",
              "      <td>6.949655e-01</td>\n",
              "      <td>6.593002e-01</td>\n",
              "      <td>6.597685e-01</td>\n",
              "      <td>1.003556e+00</td>\n",
              "      <td>6.721273e-01</td>\n",
              "      <td>6.820002e-01</td>\n",
              "      <td>4.750808e-01</td>\n",
              "      <td>...</td>\n",
              "      <td>1.425138e+00</td>\n",
              "      <td>-5.185052e-01</td>\n",
              "      <td>-3.428650e-01</td>\n",
              "      <td>1.185513e+00</td>\n",
              "      <td>-4.866566e-01</td>\n",
              "      <td>1.243250e+00</td>\n",
              "      <td>-5.214535e-01</td>\n",
              "      <td>-4.707183e-01</td>\n",
              "      <td>1.142866e+00</td>\n",
              "      <td>-4.544701e-01</td>\n",
              "    </tr>\n",
              "    <tr>\n",
              "      <th>max</th>\n",
              "      <td>1.722073e+00</td>\n",
              "      <td>1.001952e+00</td>\n",
              "      <td>3.020024e+00</td>\n",
              "      <td>3.395757e+00</td>\n",
              "      <td>6.593002e-01</td>\n",
              "      <td>6.597685e-01</td>\n",
              "      <td>1.003556e+00</td>\n",
              "      <td>6.721273e-01</td>\n",
              "      <td>3.818880e+00</td>\n",
              "      <td>3.831224e+00</td>\n",
              "      <td>...</td>\n",
              "      <td>1.425138e+00</td>\n",
              "      <td>1.928428e+00</td>\n",
              "      <td>2.916308e+00</td>\n",
              "      <td>1.185513e+00</td>\n",
              "      <td>2.054631e+00</td>\n",
              "      <td>1.243250e+00</td>\n",
              "      <td>1.917525e+00</td>\n",
              "      <td>2.124201e+00</td>\n",
              "      <td>1.142866e+00</td>\n",
              "      <td>2.200145e+00</td>\n",
              "    </tr>\n",
              "  </tbody>\n",
              "</table>\n",
              "<p>8 rows × 30 columns</p>\n",
              "</div>\n",
              "      <button class=\"colab-df-convert\" onclick=\"convertToInteractive('df-06d096e2-4ffc-4f29-ad6e-48440a6d6f14')\"\n",
              "              title=\"Convert this dataframe to an interactive table.\"\n",
              "              style=\"display:none;\">\n",
              "        \n",
              "  <svg xmlns=\"http://www.w3.org/2000/svg\" height=\"24px\"viewBox=\"0 0 24 24\"\n",
              "       width=\"24px\">\n",
              "    <path d=\"M0 0h24v24H0V0z\" fill=\"none\"/>\n",
              "    <path d=\"M18.56 5.44l.94 2.06.94-2.06 2.06-.94-2.06-.94-.94-2.06-.94 2.06-2.06.94zm-11 1L8.5 8.5l.94-2.06 2.06-.94-2.06-.94L8.5 2.5l-.94 2.06-2.06.94zm10 10l.94 2.06.94-2.06 2.06-.94-2.06-.94-.94-2.06-.94 2.06-2.06.94z\"/><path d=\"M17.41 7.96l-1.37-1.37c-.4-.4-.92-.59-1.43-.59-.52 0-1.04.2-1.43.59L10.3 9.45l-7.72 7.72c-.78.78-.78 2.05 0 2.83L4 21.41c.39.39.9.59 1.41.59.51 0 1.02-.2 1.41-.59l7.78-7.78 2.81-2.81c.8-.78.8-2.07 0-2.86zM5.41 20L4 18.59l7.72-7.72 1.47 1.35L5.41 20z\"/>\n",
              "  </svg>\n",
              "      </button>\n",
              "      \n",
              "  <style>\n",
              "    .colab-df-container {\n",
              "      display:flex;\n",
              "      flex-wrap:wrap;\n",
              "      gap: 12px;\n",
              "    }\n",
              "\n",
              "    .colab-df-convert {\n",
              "      background-color: #E8F0FE;\n",
              "      border: none;\n",
              "      border-radius: 50%;\n",
              "      cursor: pointer;\n",
              "      display: none;\n",
              "      fill: #1967D2;\n",
              "      height: 32px;\n",
              "      padding: 0 0 0 0;\n",
              "      width: 32px;\n",
              "    }\n",
              "\n",
              "    .colab-df-convert:hover {\n",
              "      background-color: #E2EBFA;\n",
              "      box-shadow: 0px 1px 2px rgba(60, 64, 67, 0.3), 0px 1px 3px 1px rgba(60, 64, 67, 0.15);\n",
              "      fill: #174EA6;\n",
              "    }\n",
              "\n",
              "    [theme=dark] .colab-df-convert {\n",
              "      background-color: #3B4455;\n",
              "      fill: #D2E3FC;\n",
              "    }\n",
              "\n",
              "    [theme=dark] .colab-df-convert:hover {\n",
              "      background-color: #434B5C;\n",
              "      box-shadow: 0px 1px 3px 1px rgba(0, 0, 0, 0.15);\n",
              "      filter: drop-shadow(0px 1px 2px rgba(0, 0, 0, 0.3));\n",
              "      fill: #FFFFFF;\n",
              "    }\n",
              "  </style>\n",
              "\n",
              "      <script>\n",
              "        const buttonEl =\n",
              "          document.querySelector('#df-06d096e2-4ffc-4f29-ad6e-48440a6d6f14 button.colab-df-convert');\n",
              "        buttonEl.style.display =\n",
              "          google.colab.kernel.accessAllowed ? 'block' : 'none';\n",
              "\n",
              "        async function convertToInteractive(key) {\n",
              "          const element = document.querySelector('#df-06d096e2-4ffc-4f29-ad6e-48440a6d6f14');\n",
              "          const dataTable =\n",
              "            await google.colab.kernel.invokeFunction('convertToInteractive',\n",
              "                                                     [key], {});\n",
              "          if (!dataTable) return;\n",
              "\n",
              "          const docLinkHtml = 'Like what you see? Visit the ' +\n",
              "            '<a target=\"_blank\" href=https://colab.research.google.com/notebooks/data_table.ipynb>data table notebook</a>'\n",
              "            + ' to learn more about interactive tables.';\n",
              "          element.innerHTML = '';\n",
              "          dataTable['output_type'] = 'display_data';\n",
              "          await google.colab.output.renderOutput(dataTable, element);\n",
              "          const docLink = document.createElement('div');\n",
              "          docLink.innerHTML = docLinkHtml;\n",
              "          element.appendChild(docLink);\n",
              "        }\n",
              "      </script>\n",
              "    </div>\n",
              "  </div>\n",
              "  "
            ]
          },
          "metadata": {},
          "execution_count": 33
        }
      ],
      "source": [
        "data_stand = (data - data.mean(axis = 0))/data.std(axis = 0)\n",
        "\n",
        "data_stand.describe()"
      ]
    },
    {
      "cell_type": "markdown",
      "metadata": {
        "id": "2-eLgV85-Wka"
      },
      "source": [
        "### **6. Разбиение данных на обучающуюю и тестовую выборки**\n",
        "\n",
        "Для предсказания признака \"OUTCOME\" будем использовать все входные признаки, кроме \"ID\":"
      ]
    },
    {
      "cell_type": "code",
      "execution_count": 34,
      "metadata": {
        "id": "ID22klkZ-Wka"
      },
      "outputs": [],
      "source": [
        "X = data_stand.drop([\"ID\", \"OUTCOME\"], axis=1)\n",
        "y = data[\"OUTCOME\"]"
      ]
    },
    {
      "cell_type": "markdown",
      "metadata": {
        "id": "JkWRJ0VX-Wka"
      },
      "source": [
        "Разобьем данные на обучающую и тестовую выборки в пропорции 3:1 (75% - обучающая выборка, 25% - тестовая):"
      ]
    },
    {
      "cell_type": "code",
      "execution_count": 35,
      "metadata": {
        "colab": {
          "base_uri": "https://localhost:8080/"
        },
        "id": "0LqW_azR-Wka",
        "outputId": "905ddecb-8f02-4088-eb4f-b1cec8b0b78c"
      },
      "outputs": [
        {
          "output_type": "execute_result",
          "data": {
            "text/plain": [
              "(7500, 2500)"
            ]
          },
          "metadata": {},
          "execution_count": 35
        }
      ],
      "source": [
        "from sklearn.model_selection import train_test_split\n",
        "X_train, X_test, y_train, y_test = train_test_split(X, y, test_size = 0.25, random_state = 42)\n",
        "\n",
        "N_train, _ = X_train.shape \n",
        "N_test,  _ = X_test.shape \n",
        "\n",
        "N_train, N_test"
      ]
    },
    {
      "cell_type": "markdown",
      "metadata": {
        "id": "kEDlJ8IK-Wka"
      },
      "source": [
        "### **7. Метод k-ближайших соседей**"
      ]
    },
    {
      "cell_type": "markdown",
      "metadata": {
        "id": "StSQvdND-Wkb"
      },
      "source": [
        "Запустим классификатор с количеством соседей k = 1, 3, 5, 10, 15, 20 и вычислим точность:"
      ]
    },
    {
      "cell_type": "code",
      "execution_count": 36,
      "metadata": {
        "colab": {
          "base_uri": "https://localhost:8080/"
        },
        "id": "uppf8Gl7-Wkb",
        "outputId": "f6a7931c-a9f7-49a9-dd04-a3867d5ccc29"
      },
      "outputs": [
        {
          "output_type": "stream",
          "name": "stdout",
          "text": [
            "Accuracy\n",
            "01:train: 99.97% \n",
            "01:test:  78.04%\n"
          ]
        }
      ],
      "source": [
        "from sklearn.neighbors import KNeighborsClassifier\n",
        "\n",
        "knn_1= KNeighborsClassifier(n_neighbors = 1)\n",
        "knn_1.fit(X_train, y_train)\n",
        "knn_1train = knn_1.score(X_train, y_train)\n",
        "knn_1test = knn_1.score(X_test, y_test)\n",
        "print(\"Accuracy\\n01:train: {:.2f}% \\n01:test:  {:.2f}%\".format(knn_1train*100, knn_1test*100))"
      ]
    },
    {
      "cell_type": "code",
      "execution_count": 37,
      "metadata": {
        "colab": {
          "base_uri": "https://localhost:8080/"
        },
        "id": "DPO54Akz-Wkb",
        "outputId": "6b112ada-81ce-42fe-eace-1ae9302c12a3"
      },
      "outputs": [
        {
          "output_type": "stream",
          "name": "stdout",
          "text": [
            "Accuracy\n",
            "03:train: 88.72% \n",
            "03:test:  79.60%\n"
          ]
        }
      ],
      "source": [
        "knn_3 = KNeighborsClassifier(n_neighbors = 3)\n",
        "knn_3.fit(X_train, y_train)\n",
        "knn_3train = knn_3.score(X_train, y_train)\n",
        "knn_3test = knn_3.score(X_test, y_test)\n",
        "print(\"Accuracy\\n03:train: {:.2f}% \\n03:test:  {:.2f}%\".format(knn_3train*100, knn_3test*100))"
      ]
    },
    {
      "cell_type": "code",
      "execution_count": 38,
      "metadata": {
        "colab": {
          "base_uri": "https://localhost:8080/"
        },
        "id": "Xd8xpcmQ-Wkb",
        "outputId": "ae1cf0e0-d900-4073-c8d9-a953abe44ae9"
      },
      "outputs": [
        {
          "output_type": "stream",
          "name": "stdout",
          "text": [
            "Accuracy\n",
            "05:train: 86.71% \n",
            "05:test:  80.16%\n"
          ]
        }
      ],
      "source": [
        "knn_5 = KNeighborsClassifier(n_neighbors = 5)\n",
        "knn_5.fit(X_train, y_train)\n",
        "knn_5train = knn_5.score(X_train, y_train)\n",
        "knn_5test = knn_5.score(X_test, y_test)\n",
        "print(\"Accuracy\\n05:train: {:.2f}% \\n05:test:  {:.2f}%\".format(knn_5train*100, knn_5test*100))"
      ]
    },
    {
      "cell_type": "code",
      "execution_count": 39,
      "metadata": {
        "colab": {
          "base_uri": "https://localhost:8080/"
        },
        "id": "Ip0BnCdo-Wkb",
        "outputId": "ba948294-cdf0-41ea-b62b-89ba82d52fb1"
      },
      "outputs": [
        {
          "output_type": "stream",
          "name": "stdout",
          "text": [
            "Accuracy\n",
            "10:train: 84.75% \n",
            "10:test:  81.72%\n"
          ]
        }
      ],
      "source": [
        "knn_10 = KNeighborsClassifier(n_neighbors = 10)\n",
        "knn_10.fit(X_train, y_train)\n",
        "knn_10train = knn_10.score(X_train, y_train)\n",
        "knn_10test = knn_10.score(X_test, y_test)\n",
        "print(\"Accuracy\\n10:train: {:.2f}% \\n10:test:  {:.2f}%\".format(knn_10train*100, knn_10test*100))"
      ]
    },
    {
      "cell_type": "code",
      "execution_count": 40,
      "metadata": {
        "colab": {
          "base_uri": "https://localhost:8080/"
        },
        "id": "c4HHMUNP-Wkb",
        "outputId": "bce59a55-4cf7-4bac-9f72-364b72154a4e"
      },
      "outputs": [
        {
          "output_type": "stream",
          "name": "stdout",
          "text": [
            "Accuracy\n",
            "15:train: 83.93% \n",
            "15:test:  82.04%\n"
          ]
        }
      ],
      "source": [
        "knn_15 = KNeighborsClassifier(n_neighbors = 15)\n",
        "knn_15.fit(X_train, y_train)\n",
        "knn_15train = knn_15.score(X_train, y_train)\n",
        "knn_15test = knn_15.score(X_test, y_test)\n",
        "print(\"Accuracy\\n15:train: {:.2f}% \\n15:test:  {:.2f}%\".format(knn_15train*100, knn_15test*100))"
      ]
    },
    {
      "cell_type": "code",
      "execution_count": 41,
      "metadata": {
        "colab": {
          "base_uri": "https://localhost:8080/"
        },
        "id": "espUmQst-Wkb",
        "outputId": "89749da6-102d-4402-d4d0-7cc8d6c26cb2"
      },
      "outputs": [
        {
          "output_type": "stream",
          "name": "stdout",
          "text": [
            "Accuracy\n",
            "20:train: 83.47% \n",
            "20:test:  81.72%\n"
          ]
        }
      ],
      "source": [
        "knn_20 = KNeighborsClassifier(n_neighbors = 20)\n",
        "knn_20.fit(X_train, y_train)\n",
        "knn_20train = knn_20.score(X_train, y_train)\n",
        "knn_20test = knn_20.score(X_test, y_test)\n",
        "print(\"Accuracy\\n20:train: {:.2f}% \\n20:test:  {:.2f}%\".format(knn_20train*100, knn_20test*100))"
      ]
    },
    {
      "cell_type": "markdown",
      "metadata": {
        "id": "0OPEs_5m-Wkb"
      },
      "source": [
        "Посмотрим confusion matrix для лучшей по точности модели из 20 соседей:"
      ]
    },
    {
      "cell_type": "code",
      "execution_count": 42,
      "metadata": {
        "colab": {
          "base_uri": "https://localhost:8080/"
        },
        "id": "R2GrKfjO-Wkb",
        "outputId": "cf5fd8e9-91cb-4ec1-85b7-5fff78816b6e"
      },
      "outputs": [
        {
          "output_type": "execute_result",
          "data": {
            "text/plain": [
              "array([[1549,  174],\n",
              "       [ 283,  494]])"
            ]
          },
          "metadata": {},
          "execution_count": 42
        }
      ],
      "source": [
        "from sklearn.metrics import confusion_matrix\n",
        "confusion_matrix(y_test, knn_20.predict(X_test))"
      ]
    },
    {
      "cell_type": "markdown",
      "metadata": {
        "id": "XqrMpPmC-Wkb"
      },
      "source": [
        "### **Вывод**\n",
        "\n",
        "В наступлении страхового случая доля случайности велика и предсказать наверняка, наступит такой случай или нет невозможно. Это объясняет достаточно высокий процент ошибок(~18%) при самом оптимальном параметре. Кроме того, возможно, при составлении таблицы автор учел не все влияющие на исход признаки. Возможно улучшить результати поможет использованние другого классификатора или расширение числа признаков."
      ]
    },
    {
      "cell_type": "markdown",
      "metadata": {
        "id": "2P_KYClL-Wkb"
      },
      "source": [
        "### **9. Метод Random Forest**"
      ]
    },
    {
      "cell_type": "code",
      "execution_count": 43,
      "metadata": {
        "colab": {
          "base_uri": "https://localhost:8080/"
        },
        "id": "DcD6UE-P-Wkb",
        "outputId": "02917310-2d0f-4526-a229-a5d9c3f08af7"
      },
      "outputs": [
        {
          "output_type": "stream",
          "name": "stdout",
          "text": [
            "Accuracy\n",
            "rf:train: 99.97% \n",
            "rf:test:  82.92%\n"
          ]
        }
      ],
      "source": [
        "from sklearn import ensemble\n",
        "rf = ensemble.RandomForestClassifier(n_estimators = 1000)\n",
        "rf.fit(X_train, y_train)\n",
        "\n",
        "rf_train = rf.score(X_train, y_train)\n",
        "rf_test = rf.score(X_test, y_test)\n",
        "print(\"Accuracy\\nrf:train: {:.2f}% \\nrf:test:  {:.2f}%\".format(rf_train*100, rf_test*100))"
      ]
    },
    {
      "cell_type": "code",
      "execution_count": 44,
      "metadata": {
        "colab": {
          "base_uri": "https://localhost:8080/"
        },
        "id": "s5RrUT__-Wkc",
        "outputId": "89e51aae-0164-4388-b2c3-e544cae333f5"
      },
      "outputs": [
        {
          "output_type": "execute_result",
          "data": {
            "text/plain": [
              "array([[1547,  176],\n",
              "       [ 251,  526]])"
            ]
          },
          "metadata": {},
          "execution_count": 44
        }
      ],
      "source": [
        "from sklearn.metrics import confusion_matrix\n",
        "confusion_matrix(y_test, rf.predict(X_test))"
      ]
    },
    {
      "cell_type": "markdown",
      "metadata": {
        "id": "_3Xkq6cM-Wkc"
      },
      "source": [
        "По результатам видно, что при применение метода Random Forest ошибки на тестовой и обучающей выборках сильно разняться. И в данном случае лучше использовать метод kNN."
      ]
    },
    {
      "cell_type": "markdown",
      "metadata": {
        "id": "ulq238lF-Wkc"
      },
      "source": [
        "### **10. Общие выводы**\n",
        "\n",
        "В результате проделанной работы была решена задача классификации с помощью метода К-ближайших соседей и метода Random Forest, а также была выполнена визуализация и вычисление основных характеристик, обработка пропущенных значений, обработка категориальных признаков, нормализация признаков, разбиение данных на тестовую и обучающую выборки. На основе проделанной работы можно сказать, что наиболее важным является не повышение общей точности, а правильность предсказания. Эта задача не является простой, очень велик случайный фактор, а все данные, которые есть у страховой не в полной мере влияют на исход. Отсюда достаточно большой процент ошибки в методах kNN и Random Forest."
      ]
    },
    {
      "cell_type": "markdown",
      "source": [
        "# **Обучение сети**\n",
        "\n",
        "**Обучение классификатора**\n",
        "\n"
      ],
      "metadata": {
        "id": "JnQwvKRSBfBH"
      }
    },
    {
      "cell_type": "code",
      "source": [
        "from sklearn.neural_network import MLPClassifier\n",
        "from sklearn.metrics import accuracy_score"
      ],
      "metadata": {
        "id": "Ls5LBxckCciu"
      },
      "execution_count": 45,
      "outputs": []
    },
    {
      "cell_type": "markdown",
      "source": [
        "В качестве алгоритма оптимизации выберем алгоритм Adam. Активационная функция - Relu. Один скрытый слой, с количеством нейронов 100:"
      ],
      "metadata": {
        "id": "bAt0xTZlCwwq"
      }
    },
    {
      "cell_type": "code",
      "source": [
        "mlp_model = MLPClassifier(hidden_layer_sizes=(100,),\n",
        "                          solver='adam',\n",
        "                          activation='relu',\n",
        "                          random_state=42,\n",
        "                          max_iter=1000)"
      ],
      "metadata": {
        "id": "S56aWkK7Cxl0"
      },
      "execution_count": 46,
      "outputs": []
    },
    {
      "cell_type": "code",
      "source": [
        "mlp_model.fit(X_train, y_train)"
      ],
      "metadata": {
        "colab": {
          "base_uri": "https://localhost:8080/"
        },
        "id": "OjfbMzb7DY7t",
        "outputId": "52cc929e-9f16-4d2f-a94e-dcf817f1129e"
      },
      "execution_count": 47,
      "outputs": [
        {
          "output_type": "execute_result",
          "data": {
            "text/plain": [
              "MLPClassifier(max_iter=1000, random_state=42)"
            ]
          },
          "metadata": {},
          "execution_count": 47
        }
      ]
    },
    {
      "cell_type": "code",
      "source": [
        "y_train_pred = mlp_model.predict(X_train)\n",
        "y_test_pred = mlp_model.predict(X_test)"
      ],
      "metadata": {
        "id": "v3c3z9bqExzF"
      },
      "execution_count": 48,
      "outputs": []
    },
    {
      "cell_type": "markdown",
      "source": [
        "Ошибки на обучающей и тестовой выборках:"
      ],
      "metadata": {
        "id": "nthMvK6mE1Bo"
      }
    },
    {
      "cell_type": "code",
      "source": [
        "print(\"train error: \" + str(np.mean(y_train != y_train_pred)), \"test error: \" + str(np.mean(y_test != y_test_pred)))\n",
        "print(str(mlp_model.score(X_train, y_train)), str(mlp_model.score(X_test, y_test)))\n",
        "print(\"test error: \" + str(1 - mlp_model.score(X_test, y_test)))\n",
        "print(\"train error: \" + str(1 - mlp_model.score(X_train, y_train)))"
      ],
      "metadata": {
        "colab": {
          "base_uri": "https://localhost:8080/"
        },
        "id": "hMa6scwiE1na",
        "outputId": "47747bad-86c4-46b1-8927-b7259d57dbaf"
      },
      "execution_count": 49,
      "outputs": [
        {
          "output_type": "stream",
          "name": "stdout",
          "text": [
            "train error: 0.06733333333333333 test error: 0.1924\n",
            "0.9326666666666666 0.8076\n",
            "test error: 0.19240000000000002\n",
            "train error: 0.06733333333333336\n"
          ]
        }
      ]
    },
    {
      "cell_type": "markdown",
      "source": [
        "Подберем оптимальное значение параметра регуляризации alpha"
      ],
      "metadata": {
        "id": "RyOm7fMvNLPg"
      }
    },
    {
      "cell_type": "code",
      "source": [
        "alpha_arr = np.logspace(-3, 2, 21)\n",
        "test_err = []\n",
        "train_err = []\n",
        "train_acc = []\n",
        "test_acc = []\n",
        "\n",
        "for alpha in alpha_arr:\n",
        "    mlp_model = MLPClassifier(alpha = alpha,\n",
        "                              hidden_layer_sizes=(100,),\n",
        "                              solver='adam',\n",
        "                              activation='relu',\n",
        "                              max_iter=1000, \n",
        "                              random_state = 42)\n",
        "    mlp_model.fit(X_train, y_train)\n",
        "\n",
        "    y_train_pred = mlp_model.predict(X_train)\n",
        "    y_test_pred = mlp_model.predict(X_test)\n",
        "\n",
        "    train_err.append(np.mean(y_train != y_train_pred))\n",
        "    test_err.append(np.mean(y_test != y_test_pred))\n",
        "    train_acc.append(accuracy_score(y_train, y_train_pred))\n",
        "    test_acc.append(accuracy_score(y_test, y_test_pred))"
      ],
      "metadata": {
        "id": "nwv178CwNLgb"
      },
      "execution_count": 50,
      "outputs": []
    },
    {
      "cell_type": "code",
      "source": [
        "plt.semilogx(alpha_arr, train_err, 'b-o', label = 'train')\n",
        "plt.semilogx(alpha_arr, test_err, 'r-o', label = 'test')\n",
        "plt.xlim([np.min(alpha_arr), np.max(alpha_arr)])\n",
        "plt.title('Error vs. alpha')\n",
        "plt.xlabel('alpha')\n",
        "plt.ylabel('error')\n",
        "plt.legend()"
      ],
      "metadata": {
        "colab": {
          "base_uri": "https://localhost:8080/",
          "height": 317
        },
        "id": "x_tNbnzcNzaN",
        "outputId": "e66aa3de-f964-40eb-c523-332fef30776b"
      },
      "execution_count": 51,
      "outputs": [
        {
          "output_type": "execute_result",
          "data": {
            "text/plain": [
              "<matplotlib.legend.Legend at 0x7fc2288c22b0>"
            ]
          },
          "metadata": {},
          "execution_count": 51
        },
        {
          "output_type": "display_data",
          "data": {
            "text/plain": [
              "<Figure size 432x288 with 1 Axes>"
            ],
            "image/png": "[encoded data removed]"
          },
          "metadata": {
            "needs_background": "light"
          }
        }
      ]
    },
    {
      "cell_type": "code",
      "source": [
        "plt.semilogx(alpha_arr, train_acc, 'r-o', label = 'train')\n",
        "plt.semilogx(alpha_arr, test_acc, 'b-o', label = 'test')\n",
        "plt.xlim([np.min(alpha_arr), np.max(alpha_arr)])\n",
        "plt.title('Accuracy vs. alpha')\n",
        "plt.xlabel('alpha')\n",
        "plt.ylabel('Accuracy')\n",
        "plt.legend()"
      ],
      "metadata": {
        "colab": {
          "base_uri": "https://localhost:8080/",
          "height": 317
        },
        "id": "tYLw9KxAPK3F",
        "outputId": "a41be5a4-a436-4867-b708-2d40834c411f"
      },
      "execution_count": 52,
      "outputs": [
        {
          "output_type": "execute_result",
          "data": {
            "text/plain": [
              "<matplotlib.legend.Legend at 0x7fc22b2691c0>"
            ]
          },
          "metadata": {},
          "execution_count": 52
        },
        {
          "output_type": "display_data",
          "data": {
            "text/plain": [
              "<Figure size 432x288 with 1 Axes>"
            ],
            "image/png": "[encoded data removed]"
          },
          "metadata": {
            "needs_background": "light"
          }
        }
      ]
    },
    {
      "cell_type": "markdown",
      "source": [
        "Минимальные значения ошибки:"
      ],
      "metadata": {
        "id": "N7D-UwixrqXa"
      }
    },
    {
      "cell_type": "code",
      "source": [
        "min_train_err = np.min(train_err)\n",
        "min_test_err = np.min(test_err)\n",
        "\n",
        "print(\"Минимальное значение ошибки на обучающей выборке: \")\n",
        "print(min_train_err)\n",
        "\n",
        "print(\"Минимальное значение ошибки на тестовой выборке: \" )\n",
        "print(min_test_err)"
      ],
      "metadata": {
        "colab": {
          "base_uri": "https://localhost:8080/"
        },
        "id": "JYR3rTi9rYrI",
        "outputId": "14f8d987-8cac-45e6-9171-87a7cf04bdf1"
      },
      "execution_count": 53,
      "outputs": [
        {
          "output_type": "stream",
          "name": "stdout",
          "text": [
            "Минимальное значение ошибки на обучающей выборке: \n",
            "0.06493333333333333\n",
            "Минимальное значение ошибки на тестовой выборке: \n",
            "0.1532\n"
          ]
        }
      ]
    },
    {
      "cell_type": "markdown",
      "source": [
        "Оптимальное значение alpha:"
      ],
      "metadata": {
        "id": "u5u8mn4ir8H6"
      }
    },
    {
      "cell_type": "code",
      "source": [
        "alpha_opt = alpha_arr[test_err == min_test_err]\n",
        "alpha_opt = alpha_opt[0]\n",
        "print(alpha_opt)"
      ],
      "metadata": {
        "colab": {
          "base_uri": "https://localhost:8080/"
        },
        "id": "4sTNocEYr8xx",
        "outputId": "b997884d-5cfa-4cd8-fcfa-7e2a2f48b108"
      },
      "execution_count": 54,
      "outputs": [
        {
          "output_type": "stream",
          "name": "stdout",
          "text": [
            "3.1622776601683795\n"
          ]
        }
      ]
    },
    {
      "cell_type": "markdown",
      "source": [
        "Посмотрим на результат обучения при оптимальном alpha"
      ],
      "metadata": {
        "id": "_EDPVaxLs3P7"
      }
    },
    {
      "cell_type": "code",
      "source": [
        "mlp_model = MLPClassifier(alpha = alpha_opt, \n",
        "                          hidden_layer_sizes=(100,), \n",
        "                          solver='adam',\n",
        "                          activation='relu',\n",
        "                          max_iter=1000, \n",
        "                          random_state = 42)\n",
        "\n",
        "mlp_model.fit(X_train, y_train)\n",
        "\n",
        "y_train_pred = mlp_model.predict(X_train)\n",
        "y_test_pred = mlp_model.predict(X_test)\n",
        "print(np.mean(y_train != y_train_pred))\n",
        "print(np.mean(y_test != y_test_pred))"
      ],
      "metadata": {
        "colab": {
          "base_uri": "https://localhost:8080/"
        },
        "id": "Em5tkKyPs33L",
        "outputId": "00e1e08d-f96d-4be6-ae3d-00df4a4f014d"
      },
      "execution_count": 55,
      "outputs": [
        {
          "output_type": "stream",
          "name": "stdout",
          "text": [
            "0.15506666666666666\n",
            "0.1532\n"
          ]
        }
      ]
    },
    {
      "cell_type": "markdown",
      "source": [
        "Подберем оптимальное значение количества нейронов при оптимальном alpha"
      ],
      "metadata": {
        "id": "xuUrMmTLt4Rc"
      }
    },
    {
      "cell_type": "code",
      "source": [
        "neuron_arr = np.linspace(10, 500, 20).astype(int)\n",
        "test_error = []\n",
        "train_error = []\n",
        "test_acc = []\n",
        "train_acc = []\n",
        "\n",
        "for neuron in neuron_arr:\n",
        "  mlp_model = MLPClassifier(alpha=alpha_opt,\n",
        "                            hidden_layer_sizes=(neuron,), \n",
        "                            solver='adam',\n",
        "                            activation='relu',\n",
        "                            max_iter=1000, \n",
        "                            random_state = 42)\n",
        "  \n",
        "  mlp_model.fit(X_train, y_train)\n",
        "\n",
        "  y_train_pred = mlp_model.predict(X_train)\n",
        "  y_test_pred = mlp_model.predict(X_test)\n",
        "\n",
        "  test_error.append(np.mean(y_test != y_test_pred))\n",
        "  train_error.append(np.mean(y_train != y_train_pred))\n",
        "  test_acc.append(accuracy_score(y_test, y_test_pred))\n",
        "  train_acc.append(accuracy_score(y_train, y_train_pred))"
      ],
      "metadata": {
        "id": "kitmT0wXt410"
      },
      "execution_count": 56,
      "outputs": []
    },
    {
      "cell_type": "code",
      "source": [
        "plt.plot(neuron_arr, train_error, 'r-o', label='train')\n",
        "plt.plot(neuron_arr, test_error, 'b-o', label='test')\n",
        "plt.xlim([np.min(neuron_arr), np.max(neuron_arr)])\n",
        "plt.title('Error vs. neuron count')\n",
        "plt.xlabel('neuron count')\n",
        "plt.ylabel('error')\n",
        "plt.legend()"
      ],
      "metadata": {
        "colab": {
          "base_uri": "https://localhost:8080/",
          "height": 313
        },
        "id": "2LVvoYOevMkb",
        "outputId": "e8643aff-7af5-479e-828f-e5a26e577ddc"
      },
      "execution_count": 57,
      "outputs": [
        {
          "output_type": "execute_result",
          "data": {
            "text/plain": [
              "<matplotlib.legend.Legend at 0x7fc22b3c6f10>"
            ]
          },
          "metadata": {},
          "execution_count": 57
        },
        {
          "output_type": "display_data",
          "data": {
            "text/plain": [
              "<Figure size 432x288 with 1 Axes>"
            ],
            "image/png": "[encoded data removed]"
          },
          "metadata": {
            "needs_background": "light"
          }
        }
      ]
    },
    {
      "cell_type": "code",
      "source": [
        "plt.plot(neuron_arr, train_acc, 'r-o', label='train')\n",
        "plt.plot(neuron_arr, test_acc, 'b-o', label='test')\n",
        "plt.xlim([np.min(neuron_arr), np.max(neuron_arr)])\n",
        "plt.title('Accuracy vs. neuron count')\n",
        "plt.xlabel('neuron count')\n",
        "plt.ylabel('accuracy')\n",
        "plt.legend()"
      ],
      "metadata": {
        "colab": {
          "base_uri": "https://localhost:8080/",
          "height": 313
        },
        "id": "eQtxxJ5tvO_k",
        "outputId": "68437e1f-3cbf-4bab-8d1f-f088d7dc6074"
      },
      "execution_count": 58,
      "outputs": [
        {
          "output_type": "execute_result",
          "data": {
            "text/plain": [
              "<matplotlib.legend.Legend at 0x7fc22d5340a0>"
            ]
          },
          "metadata": {},
          "execution_count": 58
        },
        {
          "output_type": "display_data",
          "data": {
            "text/plain": [
              "<Figure size 432x288 with 1 Axes>"
            ],
            "image/png": "[encoded data removed]"
          },
          "metadata": {
            "needs_background": "light"
          }
        }
      ]
    },
    {
      "cell_type": "code",
      "source": [
        "min_train_err = np.min(train_err)\n",
        "min_test_err = np.min(test_err)\n",
        "\n",
        "print(\"Минимальное значение ошибки на обучающей выборке: \")\n",
        "print(min_train_err)\n",
        "\n",
        "print(\"Минимальное значение ошибки на тестовой выборке: \" )\n",
        "print(min_test_err)"
      ],
      "metadata": {
        "colab": {
          "base_uri": "https://localhost:8080/"
        },
        "id": "8pmd23rswVQc",
        "outputId": "ecc5dcf2-c884-42ef-9f51-a10e240b223c"
      },
      "execution_count": 59,
      "outputs": [
        {
          "output_type": "stream",
          "name": "stdout",
          "text": [
            "Минимальное значение ошибки на обучающей выборке: \n",
            "0.06493333333333333\n",
            "Минимальное значение ошибки на тестовой выборке: \n",
            "0.1532\n"
          ]
        }
      ]
    },
    {
      "cell_type": "code",
      "source": [
        "neuron_opt = neuron_arr[test_error == min_test_err]\n",
        "neuron_opt = neuron_opt[0]\n",
        "print(neuron_opt)"
      ],
      "metadata": {
        "colab": {
          "base_uri": "https://localhost:8080/"
        },
        "id": "B_BunkWfxckL",
        "outputId": "f22ffafe-f6e2-4eca-a826-fa4b6cafebe0"
      },
      "execution_count": 60,
      "outputs": [
        {
          "output_type": "stream",
          "name": "stdout",
          "text": [
            "371\n"
          ]
        }
      ]
    },
    {
      "cell_type": "markdown",
      "source": [
        "Посмотрим на результат обучения при оптимальном кол-ве нейронов и оптимальном alpha\n",
        "\n"
      ],
      "metadata": {
        "id": "tOBivhBcxlLq"
      }
    },
    {
      "cell_type": "code",
      "source": [
        "mlp_model = MLPClassifier(alpha = alpha_opt,\n",
        "                          hidden_layer_sizes = (neuron_opt,),\n",
        "                          solver='adam',\n",
        "                          activation='relu',\n",
        "                          max_iter=1000, \n",
        "                          random_state = 42)\n",
        "\n",
        "mlp_model.fit(X_train, y_train)\n",
        "\n",
        "y_train_pred = mlp_model.predict(X_train)\n",
        "y_test_pred = mlp_model.predict(X_test)\n",
        "print(\"Ошибка на обучающей выборке: \" + str(np.mean(y_train != y_train_pred)))\n",
        "print(\"Ошибка на тестовой выборке: \" + str(np.mean(y_test != y_test_pred)))"
      ],
      "metadata": {
        "colab": {
          "base_uri": "https://localhost:8080/"
        },
        "id": "M2d6F9dqxq8S",
        "outputId": "bf0bc3ab-a9b5-425f-e53d-2042a8c8b771"
      },
      "execution_count": 61,
      "outputs": [
        {
          "output_type": "stream",
          "name": "stdout",
          "text": [
            "Ошибка на обучающей выборке: 0.15533333333333332\n",
            "Ошибка на тестовой выборке: 0.1532\n"
          ]
        }
      ]
    },
    {
      "cell_type": "code",
      "source": [
        "print(accuracy_score(y_train, y_train_pred))\n",
        "print(accuracy_score(y_test, y_test_pred))"
      ],
      "metadata": {
        "colab": {
          "base_uri": "https://localhost:8080/"
        },
        "id": "pJDPmthoyRBT",
        "outputId": "bc204408-b1dd-4cac-defd-fda85c62e311"
      },
      "execution_count": 62,
      "outputs": [
        {
          "output_type": "stream",
          "name": "stdout",
          "text": [
            "0.8446666666666667\n",
            "0.8468\n"
          ]
        }
      ]
    },
    {
      "cell_type": "code",
      "source": [
        "from sklearn.metrics import confusion_matrix\n",
        "print(confusion_matrix(y_test_pred, y_test))"
      ],
      "metadata": {
        "colab": {
          "base_uri": "https://localhost:8080/"
        },
        "id": "aMq_cYIIzMoe",
        "outputId": "48a86c16-7b1a-43e7-cf72-60e14f7c4a41"
      },
      "execution_count": 63,
      "outputs": [
        {
          "output_type": "stream",
          "name": "stdout",
          "text": [
            "[[1543  203]\n",
            " [ 180  574]]\n"
          ]
        }
      ]
    },
    {
      "cell_type": "markdown",
      "source": [
        "## **Выводы**\n",
        "\n",
        "На основе полученных эксперементов можно сделать следующие выводы:\n",
        "\n",
        "1. Оптимальные результаты были достигнуты при alpha = 3.1622776601683795 и числе нейронов = 371.\n",
        "2. C ростом коэффициента регуляризации растет ошибка и падает accuracy. Это говорит о том, что после обучения у модели не возникает больших значений весовых коэффициентов, а значит нет переобучения.\n",
        "3. Показатели ошибок всё ещё достаточно большие, это связано со сложностью исследуемой модели. При найденных оптимальных значениях параметров они лучше, чем показатели ошибок в методе ближайших соседей."
      ],
      "metadata": {
        "id": "BVtvfT4EEaar"
      }
    }
  ],
  "metadata": {
    "kernelspec": {
      "display_name": "Python 3",
      "language": "python",
      "name": "python3"
    },
    "colab": {
      "provenance": []
    },
    "accelerator": "GPU",
    "gpuClass": "standard"
  },
  "nbformat": 4,
  "nbformat_minor": 0
}